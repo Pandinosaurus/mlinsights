{
  "cells": [
    {
      "cell_type": "markdown",
      "metadata": {},
      "source": [
        "# Quantile Regression\n",
        "\n",
        "[scikit-learn](http://scikit-learn.org/stable/) does not have a quantile regression. [mlinsights](http://www.xavierdupre.fr/app/mlinsights/helpsphinx/index.html) implements a version of it."
      ]
    },
    {
      "cell_type": "code",
      "execution_count": 1,
      "metadata": {},
      "outputs": [],
      "source": [
        "%matplotlib inline"
      ]
    },
    {
      "cell_type": "markdown",
      "metadata": {},
      "source": [
        "We generate some dummy data."
      ]
    },
    {
      "cell_type": "code",
      "execution_count": 2,
      "metadata": {},
      "outputs": [],
      "source": [
        "import numpy\n",
        "X = numpy.random.random(1000)\n",
        "eps1 = (numpy.random.random(900) - 0.5) * 0.1\n",
        "eps2 = (numpy.random.random(100)) * 10\n",
        "eps = numpy.hstack([eps1, eps2])\n",
        "X = X.reshape((1000, 1))\n",
        "Y = X.ravel() * 3.4 + 5.6 + eps"
      ]
    },
    {
      "cell_type": "code",
      "execution_count": 3,
      "metadata": {},
      "outputs": [
        {
          "data": {
            "text/plain": [
              "LinearRegression(copy_X=True, fit_intercept=True, n_jobs=1, normalize=False)"
            ]
          },
          "execution_count": 4,
          "metadata": {},
          "output_type": "execute_result"
        }
      ],
      "source": [
        "from sklearn.linear_model import LinearRegression\n",
        "clr = LinearRegression()\n",
        "clr.fit(X, Y)"
      ]
    },
    {
      "cell_type": "code",
      "execution_count": 4,
      "metadata": {},
      "outputs": [
        {
          "data": {
            "text/plain": [
              "QuantileLinearRegression(copy_X=True, delta=0.0001, fit_intercept=True,\n",
              "             max_iter=10, n_jobs=1, normalize=False, verbose=False)"
            ]
          },
          "execution_count": 5,
          "metadata": {},
          "output_type": "execute_result"
        }
      ],
      "source": [
        "from mlinsights.mlmodel import QuantileLinearRegression\n",
        "clq = QuantileLinearRegression()\n",
        "clq.fit(X, Y)"
      ]
    },
    {
      "cell_type": "code",
      "execution_count": 5,
      "metadata": {},
      "outputs": [
        {
          "data": {
            "text/html": [
              "<div>\n",
              "<style scoped>\n",
              "    .dataframe tbody tr th:only-of-type {\n",
              "        vertical-align: middle;\n",
              "    }\n",
              "\n",
              "    .dataframe tbody tr th {\n",
              "        vertical-align: top;\n",
              "    }\n",
              "\n",
              "    .dataframe thead th {\n",
              "        text-align: right;\n",
              "    }\n",
              "</style>\n",
              "<table border=\"1\" class=\"dataframe\">\n",
              "  <thead>\n",
              "    <tr style=\"text-align: right;\">\n",
              "      <th></th>\n",
              "      <th>X</th>\n",
              "      <th>Y</th>\n",
              "      <th>clq</th>\n",
              "      <th>clr</th>\n",
              "    </tr>\n",
              "  </thead>\n",
              "  <tbody>\n",
              "    <tr>\n",
              "      <th>0</th>\n",
              "      <td>0.132058</td>\n",
              "      <td>6.067375</td>\n",
              "      <td>6.042301</td>\n",
              "      <td>6.497819</td>\n",
              "    </tr>\n",
              "    <tr>\n",
              "      <th>1</th>\n",
              "      <td>0.397055</td>\n",
              "      <td>6.969955</td>\n",
              "      <td>7.010706</td>\n",
              "      <td>7.458096</td>\n",
              "    </tr>\n",
              "    <tr>\n",
              "      <th>2</th>\n",
              "      <td>0.782989</td>\n",
              "      <td>8.246861</td>\n",
              "      <td>8.421062</td>\n",
              "      <td>8.856614</td>\n",
              "    </tr>\n",
              "    <tr>\n",
              "      <th>3</th>\n",
              "      <td>0.769349</td>\n",
              "      <td>8.199289</td>\n",
              "      <td>8.371214</td>\n",
              "      <td>8.807184</td>\n",
              "    </tr>\n",
              "    <tr>\n",
              "      <th>4</th>\n",
              "      <td>0.262938</td>\n",
              "      <td>6.522105</td>\n",
              "      <td>6.520589</td>\n",
              "      <td>6.972093</td>\n",
              "    </tr>\n",
              "  </tbody>\n",
              "</table>\n",
              "</div>"
            ],
            "text/plain": [
              "          X         Y       clq       clr\n",
              "0  0.132058  6.067375  6.042301  6.497819\n",
              "1  0.397055  6.969955  7.010706  7.458096\n",
              "2  0.782989  8.246861  8.421062  8.856614\n",
              "3  0.769349  8.199289  8.371214  8.807184\n",
              "4  0.262938  6.522105  6.520589  6.972093"
            ]
          },
          "execution_count": 6,
          "metadata": {},
          "output_type": "execute_result"
        }
      ],
      "source": [
        "from pandas import DataFrame\n",
        "data= dict(X=X.ravel(), Y=Y, clr=clr.predict(X), clq=clq.predict(X))\n",
        "df = DataFrame(data)\n",
        "df.head()"
      ]
    },
    {
      "cell_type": "code",
      "execution_count": 6,
      "metadata": {},
      "outputs": [
        {
          "data": {
            "image/png": "[encoded data removed]",
            "text/plain": [
              "<Figure size 720x288 with 1 Axes>"
            ]
          },
          "metadata": {},
          "output_type": "display_data"
        }
      ],
      "source": [
        "import matplotlib.pyplot as plt\n",
        "fig, ax = plt.subplots(1, 1, figsize=(10, 4))\n",
        "choice = numpy.random.choice(X.shape[0]-1, size=100)\n",
        "xx = X.ravel()[choice]\n",
        "yy = Y[choice]\n",
        "ax.plot(xx, yy, '.', label=\"data\")\n",
        "xx = numpy.array([[0], [1]])\n",
        "y1 = clr.predict(xx)\n",
        "y2 = clq.predict(xx)\n",
        "ax.plot(xx, y1, \"--\", label=\"L2\")\n",
        "ax.plot(xx, y2, \"--\", label=\"L1\")\n",
        "ax.set_title(\"Quantile (L1) vs Square (L2)\");\n",
        "ax.legend();"
      ]
    },
    {
      "cell_type": "markdown",
      "metadata": {},
      "source": [
        "The L1 is clearly less sensible to extremas. The optimization algorithm is based on [Iteratively reweighted least squares](https://en.wikipedia.org/wiki/Iteratively_reweighted_least_squares). It estimates a linear regression with error L2 then reweights each oberservation with the inverse of the error L1."
      ]
    },
    {
      "cell_type": "code",
      "execution_count": 7,
      "metadata": {},
      "outputs": [
        {
          "name": "stdout",
          "output_type": "stream",
          "text": [
            "[QuantileLinearRegression.fit] iter=1 error=959.7982325811206\n",
            "[QuantileLinearRegression.fit] iter=2 error=613.4934600959006\n",
            "[QuantileLinearRegression.fit] iter=3 error=611.2255839016267\n",
            "[QuantileLinearRegression.fit] iter=4 error=610.9695637201015\n",
            "[QuantileLinearRegression.fit] iter=5 error=610.9497676465978\n",
            "[QuantileLinearRegression.fit] iter=6 error=610.9557011521488\n",
            "[QuantileLinearRegression.fit] iter=7 error=610.967936953012\n",
            "[QuantileLinearRegression.fit] iter=8 error=610.9815724234766\n",
            "[QuantileLinearRegression.fit] iter=9 error=610.9906327030461\n",
            "[QuantileLinearRegression.fit] iter=10 error=610.9944838537251\n",
            "[QuantileLinearRegression.fit] iter=11 error=610.9963192451546\n",
            "[QuantileLinearRegression.fit] iter=12 error=610.9972107283894\n",
            "[QuantileLinearRegression.fit] iter=13 error=610.9976434788733\n",
            "[QuantileLinearRegression.fit] iter=14 error=610.9978529195498\n",
            "[QuantileLinearRegression.fit] iter=15 error=610.9979540655008\n",
            "[QuantileLinearRegression.fit] iter=16 error=610.9980028521679\n",
            "[QuantileLinearRegression.fit] iter=17 error=610.998026368669\n",
            "[QuantileLinearRegression.fit] iter=18 error=610.998037700548\n",
            "[QuantileLinearRegression.fit] iter=19 error=610.998043160153\n",
            "[QuantileLinearRegression.fit] iter=20 error=610.9980457903322\n"
          ]
        },
        {
          "data": {
            "text/plain": [
              "QuantileLinearRegression(copy_X=True, delta=0.0001, fit_intercept=True,\n",
              "             max_iter=20, n_jobs=1, normalize=False, verbose=True)"
            ]
          },
          "execution_count": 8,
          "metadata": {},
          "output_type": "execute_result"
        }
      ],
      "source": [
        "clq = QuantileLinearRegression(verbose=True, max_iter=20)\n",
        "clq.fit(X, Y)"
      ]
    },
    {
      "cell_type": "code",
      "execution_count": 8,
      "metadata": {},
      "outputs": [],
      "source": []
    }
  ],
  "metadata": {
    "kernelspec": {
      "display_name": "Python 3",
      "language": "python",
      "name": "python3"
    },
    "language_info": {
      "codemirror_mode": {
        "name": "ipython",
        "version": 3
      },
      "file_extension": ".py",
      "mimetype": "text/x-python",
      "name": "python",
      "nbconvert_exporter": "python",
      "pygments_lexer": "ipython3",
      "version": "3.6.4"
    }
  },
  "nbformat": 4,
  "nbformat_minor": 2
}