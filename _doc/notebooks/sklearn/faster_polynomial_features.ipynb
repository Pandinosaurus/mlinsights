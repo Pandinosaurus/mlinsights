{
  "cells": [
    {
      "cell_type": "markdown",
      "metadata": {},
      "source": [
        "# Faster Polynomial Features"
      ]
    },
    {
      "cell_type": "code",
      "execution_count": 1,
      "metadata": {},
      "outputs": [
        {
          "data": {
            "text/html": [
              "<div id=\"my_id_menu_nb\">run previous cell, wait for 2 seconds</div>\n",
              "<script>\n",
              "function repeat_indent_string(n){\n",
              "    var a = \"\" ;\n",
              "    for ( ; n > 0 ; --n)\n",
              "        a += \"    \";\n",
              "    return a;\n",
              "}\n",
              "// look up into all sections and builds an automated menu //\n",
              "var update_menu_string = function(begin, lfirst, llast, sformat, send, keep_item, begin_format, end_format) {\n",
              "    var anchors = document.getElementsByClassName(\"section\");\n",
              "    if (anchors.length == 0) {\n",
              "        anchors = document.getElementsByClassName(\"text_cell_render rendered_html\");\n",
              "    }\n",
              "    var i,t;\n",
              "    var text_menu = begin;\n",
              "    var text_memo = \"<pre>\\nlength:\" + anchors.length + \"\\n\";\n",
              "    var ind = \"\";\n",
              "    var memo_level = 1;\n",
              "    var href;\n",
              "    var tags = [];\n",
              "    var main_item = 0;\n",
              "    var format_open = 0;\n",
              "    for (i = 0; i <= llast; i++)\n",
              "        tags.push(\"h\" + i);\n",
              "\n",
              "    for (i = 0; i < anchors.length; i++) {\n",
              "        text_memo += \"**\" + anchors[i].id + \"--\\n\";\n",
              "\n",
              "        var child = null;\n",
              "        for(t = 0; t < tags.length; t++) {\n",
              "            var r = anchors[i].getElementsByTagName(tags[t]);\n",
              "            if (r.length > 0) {\n",
              "child = r[0];\n",
              "break;\n",
              "            }\n",
              "        }\n",
              "        if (child == null) {\n",
              "            text_memo += \"null\\n\";\n",
              "            continue;\n",
              "        }\n",
              "        if (anchors[i].hasAttribute(\"id\")) {\n",
              "            // when converted in RST\n",
              "            href = anchors[i].id;\n",
              "            text_memo += \"#1-\" + href;\n",
              "            // passer \u00e0 child suivant (le chercher)\n",
              "        }\n",
              "        else if (child.hasAttribute(\"id\")) {\n",
              "            // in a notebook\n",
              "            href = child.id;\n",
              "            text_memo += \"#2-\" + href;\n",
              "        }\n",
              "        else {\n",
              "            text_memo += \"#3-\" + \"*\" + \"\\n\";\n",
              "            continue;\n",
              "        }\n",
              "        var title = child.textContent;\n",
              "        var level = parseInt(child.tagName.substring(1,2));\n",
              "\n",
              "        text_memo += \"--\" + level + \"?\" + lfirst + \"--\" + title + \"\\n\";\n",
              "\n",
              "        if ((level < lfirst) || (level > llast)) {\n",
              "            continue ;\n",
              "        }\n",
              "        if (title.endsWith('\u00b6')) {\n",
              "            title = title.substring(0,title.length-1).replace(\"<\", \"&lt;\")\n",
              "         .replace(\">\", \"&gt;\").replace(\"&\", \"&amp;\");\n",
              "        }\n",
              "        if (title.length == 0) {\n",
              "            continue;\n",
              "        }\n",
              "\n",
              "        while (level < memo_level) {\n",
              "            text_menu += end_format + \"</ul>\\n\";\n",
              "            format_open -= 1;\n",
              "            memo_level -= 1;\n",
              "        }\n",
              "        if (level == lfirst) {\n",
              "            main_item += 1;\n",
              "        }\n",
              "        if (keep_item != -1 && main_item != keep_item + 1) {\n",
              "            // alert(main_item + \" - \" + level + \" - \" + keep_item);\n",
              "            continue;\n",
              "        }\n",
              "        while (level > memo_level) {\n",
              "            text_menu += \"<ul>\\n\";\n",
              "            memo_level += 1;\n",
              "        }\n",
              "        text_menu += repeat_indent_string(level-2);\n",
              "        text_menu += begin_format + sformat.replace(\"__HREF__\", href).replace(\"__TITLE__\", title);\n",
              "        format_open += 1;\n",
              "    }\n",
              "    while (1 < memo_level) {\n",
              "        text_menu += end_format + \"</ul>\\n\";\n",
              "        memo_level -= 1;\n",
              "        format_open -= 1;\n",
              "    }\n",
              "    text_menu += send;\n",
              "    //text_menu += \"\\n\" + text_memo;\n",
              "\n",
              "    while (format_open > 0) {\n",
              "        text_menu += end_format;\n",
              "        format_open -= 1;\n",
              "    }\n",
              "    return text_menu;\n",
              "};\n",
              "var update_menu = function() {\n",
              "    var sbegin = \"\";\n",
              "    var sformat = '<a href=\"#__HREF__\">__TITLE__</a>';\n",
              "    var send = \"\";\n",
              "    var begin_format = '<li>';\n",
              "    var end_format = '</li>';\n",
              "    var keep_item = -1;\n",
              "    var text_menu = update_menu_string(sbegin, 2, 4, sformat, send, keep_item,\n",
              "       begin_format, end_format);\n",
              "    var menu = document.getElementById(\"my_id_menu_nb\");\n",
              "    menu.innerHTML=text_menu;\n",
              "};\n",
              "window.setTimeout(update_menu,2000);\n",
              "            </script>"
            ],
            "text/plain": [
              "<IPython.core.display.HTML object>"
            ]
          },
          "execution_count": 2,
          "metadata": {},
          "output_type": "execute_result"
        }
      ],
      "source": [
        "from jyquickhelper import add_notebook_menu\n",
        "add_notebook_menu()"
      ]
    },
    {
      "cell_type": "code",
      "execution_count": 2,
      "metadata": {},
      "outputs": [],
      "source": [
        "%matplotlib inline"
      ]
    },
    {
      "cell_type": "markdown",
      "metadata": {},
      "source": [
        "## Polynomial Features\n",
        "\n",
        "The current implementation of [PolynomialFeatures](https://scikit-learn.org/stable/modules/generated/sklearn.preprocessing.PolynomialFeatures.html) (0.20.2) implements a term by term product for each pair $X_i, X_j$ of features where $ i \\leqslant j$ which is not the most efficient way to do it."
      ]
    },
    {
      "cell_type": "code",
      "execution_count": 3,
      "metadata": {},
      "outputs": [],
      "source": [
        "import numpy.random\n",
        "X = numpy.random.random((100, 5))"
      ]
    },
    {
      "cell_type": "code",
      "execution_count": 4,
      "metadata": {},
      "outputs": [
        {
          "data": {
            "text/plain": [
              "['1',\n",
              " 'x0',\n",
              " 'x1',\n",
              " 'x2',\n",
              " 'x3',\n",
              " 'x4',\n",
              " 'x0^2',\n",
              " 'x0 x1',\n",
              " 'x0 x2',\n",
              " 'x0 x3',\n",
              " 'x0 x4',\n",
              " 'x1^2',\n",
              " 'x1 x2',\n",
              " 'x1 x3',\n",
              " 'x1 x4',\n",
              " 'x2^2',\n",
              " 'x2 x3',\n",
              " 'x2 x4',\n",
              " 'x3^2',\n",
              " 'x3 x4',\n",
              " 'x4^2']"
            ]
          },
          "execution_count": 5,
          "metadata": {},
          "output_type": "execute_result"
        }
      ],
      "source": [
        "from sklearn.preprocessing import PolynomialFeatures\n",
        "poly = PolynomialFeatures(degree=2)\n",
        "Xpoly = poly.fit_transform(X)\n",
        "poly.get_feature_names()"
      ]
    },
    {
      "cell_type": "code",
      "execution_count": 5,
      "metadata": {},
      "outputs": [
        {
          "name": "stdout",
          "output_type": "stream",
          "text": [
            "670 \u00b5s \u00b1 101 \u00b5s per loop (mean \u00b1 std. dev. of 7 runs, 1000 loops each)\n"
          ]
        }
      ],
      "source": [
        "%timeit poly.transform(X)"
      ]
    },
    {
      "cell_type": "markdown",
      "metadata": {},
      "source": [
        "The class [ExtendedFeatures](http://www.xavierdupre.fr/app/mlinsights/helpsphinx/mlinsights/mlmodel/extended_features.html) implements a different way to compute the polynomial features as it tries to reduce the number of calls to numpy by using broacasted vector multplications."
      ]
    },
    {
      "cell_type": "code",
      "execution_count": 6,
      "metadata": {},
      "outputs": [
        {
          "data": {
            "text/plain": [
              "['1',\n",
              " 'x0',\n",
              " 'x1',\n",
              " 'x2',\n",
              " 'x3',\n",
              " 'x4',\n",
              " 'x0^2',\n",
              " 'x0 x1',\n",
              " 'x0 x2',\n",
              " 'x0 x3',\n",
              " 'x0 x4',\n",
              " 'x1^2',\n",
              " 'x1 x2',\n",
              " 'x1 x3',\n",
              " 'x1 x4',\n",
              " 'x2^2',\n",
              " 'x2 x3',\n",
              " 'x2 x4',\n",
              " 'x3^2',\n",
              " 'x3 x4',\n",
              " 'x4^2']"
            ]
          },
          "execution_count": 7,
          "metadata": {},
          "output_type": "execute_result"
        }
      ],
      "source": [
        "from mlinsights.mlmodel import ExtendedFeatures\n",
        "ext = ExtendedFeatures(poly_degree=2)\n",
        "Xpoly = ext.fit_transform(X)\n",
        "ext.get_feature_names()"
      ]
    },
    {
      "cell_type": "code",
      "execution_count": 7,
      "metadata": {},
      "outputs": [
        {
          "name": "stdout",
          "output_type": "stream",
          "text": [
            "75.7 \u00b5s \u00b1 9.39 \u00b5s per loop (mean \u00b1 std. dev. of 7 runs, 10000 loops each)\n"
          ]
        }
      ],
      "source": [
        "%timeit ext.transform(X)"
      ]
    },
    {
      "cell_type": "markdown",
      "metadata": {},
      "source": [
        "## Comparison with 5 features"
      ]
    },
    {
      "cell_type": "code",
      "execution_count": 8,
      "metadata": {},
      "outputs": [],
      "source": [
        "from cpyquickhelper.numbers import measure_time"
      ]
    },
    {
      "cell_type": "code",
      "execution_count": 9,
      "metadata": {},
      "outputs": [
        {
          "data": {
            "text/html": [
              "<div>\n",
              "<style scoped>\n",
              "    .dataframe tbody tr th:only-of-type {\n",
              "        vertical-align: middle;\n",
              "    }\n",
              "\n",
              "    .dataframe tbody tr th {\n",
              "        vertical-align: top;\n",
              "    }\n",
              "\n",
              "    .dataframe thead th {\n",
              "        text-align: right;\n",
              "    }\n",
              "</style>\n",
              "<table border=\"1\" class=\"dataframe\">\n",
              "  <thead>\n",
              "    <tr style=\"text-align: right;\">\n",
              "      <th></th>\n",
              "      <th>average</th>\n",
              "      <th>context_size</th>\n",
              "      <th>deviation</th>\n",
              "      <th>max_exec</th>\n",
              "      <th>min_exec</th>\n",
              "      <th>name</th>\n",
              "      <th>number</th>\n",
              "      <th>repeat</th>\n",
              "      <th>size</th>\n",
              "    </tr>\n",
              "  </thead>\n",
              "  <tbody>\n",
              "    <tr>\n",
              "      <th>23</th>\n",
              "      <td>0.605564</td>\n",
              "      <td>240</td>\n",
              "      <td>0.025304</td>\n",
              "      <td>0.630868</td>\n",
              "      <td>0.580260</td>\n",
              "      <td>ext</td>\n",
              "      <td>30</td>\n",
              "      <td>2</td>\n",
              "      <td>50000</td>\n",
              "    </tr>\n",
              "    <tr>\n",
              "      <th>24</th>\n",
              "      <td>1.841894</td>\n",
              "      <td>240</td>\n",
              "      <td>0.029580</td>\n",
              "      <td>1.871474</td>\n",
              "      <td>1.812315</td>\n",
              "      <td>poly</td>\n",
              "      <td>30</td>\n",
              "      <td>2</td>\n",
              "      <td>100000</td>\n",
              "    </tr>\n",
              "    <tr>\n",
              "      <th>25</th>\n",
              "      <td>1.317821</td>\n",
              "      <td>240</td>\n",
              "      <td>0.002342</td>\n",
              "      <td>1.320163</td>\n",
              "      <td>1.315479</td>\n",
              "      <td>ext</td>\n",
              "      <td>30</td>\n",
              "      <td>2</td>\n",
              "      <td>100000</td>\n",
              "    </tr>\n",
              "    <tr>\n",
              "      <th>26</th>\n",
              "      <td>4.827823</td>\n",
              "      <td>240</td>\n",
              "      <td>0.275791</td>\n",
              "      <td>5.103614</td>\n",
              "      <td>4.552033</td>\n",
              "      <td>poly</td>\n",
              "      <td>30</td>\n",
              "      <td>2</td>\n",
              "      <td>200000</td>\n",
              "    </tr>\n",
              "    <tr>\n",
              "      <th>27</th>\n",
              "      <td>2.506489</td>\n",
              "      <td>240</td>\n",
              "      <td>0.008040</td>\n",
              "      <td>2.514529</td>\n",
              "      <td>2.498448</td>\n",
              "      <td>ext</td>\n",
              "      <td>30</td>\n",
              "      <td>2</td>\n",
              "      <td>200000</td>\n",
              "    </tr>\n",
              "  </tbody>\n",
              "</table>\n",
              "</div>"
            ],
            "text/plain": [
              "     average  context_size  deviation  max_exec  min_exec  name  number  \\\n",
              "23  0.605564           240   0.025304  0.630868  0.580260   ext      30   \n",
              "24  1.841894           240   0.029580  1.871474  1.812315  poly      30   \n",
              "25  1.317821           240   0.002342  1.320163  1.315479   ext      30   \n",
              "26  4.827823           240   0.275791  5.103614  4.552033  poly      30   \n",
              "27  2.506489           240   0.008040  2.514529  2.498448   ext      30   \n",
              "\n",
              "    repeat    size  \n",
              "23       2   50000  \n",
              "24       2  100000  \n",
              "25       2  100000  \n",
              "26       2  200000  \n",
              "27       2  200000  "
            ]
          },
          "execution_count": 10,
          "metadata": {},
          "output_type": "execute_result"
        }
      ],
      "source": [
        "res = []\n",
        "for n in [10, 20, 50, 100, 200, 500, 1000, 2000, 5000, 10000, 20000, 50000, 100000, 200000]:\n",
        "    X = numpy.random.random((n, 5))\n",
        "    r1 = measure_time(\"poly.fit_transform(X)\", context=dict(X=X, poly=poly), repeat=2, number=30)\n",
        "    r2 = measure_time(\"ext.fit_transform(X)\", context=dict(X=X, ext=ext), repeat=2, number=30)\n",
        "    r1[\"name\"] = \"poly\"\n",
        "    r2[\"name\"] = \"ext\"\n",
        "    r1[\"size\"] = n\n",
        "    r2[\"size\"] = n\n",
        "    res.append(r1)\n",
        "    res.append(r2)\n",
        "    \n",
        "import pandas\n",
        "df = pandas.DataFrame(res)\n",
        "df.tail()"
      ]
    },
    {
      "cell_type": "code",
      "execution_count": 10,
      "metadata": {},
      "outputs": [
        {
          "data": {
            "text/html": [
              "<div>\n",
              "<style scoped>\n",
              "    .dataframe tbody tr th:only-of-type {\n",
              "        vertical-align: middle;\n",
              "    }\n",
              "\n",
              "    .dataframe tbody tr th {\n",
              "        vertical-align: top;\n",
              "    }\n",
              "\n",
              "    .dataframe thead th {\n",
              "        text-align: right;\n",
              "    }\n",
              "</style>\n",
              "<table border=\"1\" class=\"dataframe\">\n",
              "  <thead>\n",
              "    <tr style=\"text-align: right;\">\n",
              "      <th>name</th>\n",
              "      <th>ext</th>\n",
              "      <th>poly</th>\n",
              "    </tr>\n",
              "    <tr>\n",
              "      <th>size</th>\n",
              "      <th></th>\n",
              "      <th></th>\n",
              "    </tr>\n",
              "  </thead>\n",
              "  <tbody>\n",
              "    <tr>\n",
              "      <th>10</th>\n",
              "      <td>0.004351</td>\n",
              "      <td>0.011795</td>\n",
              "    </tr>\n",
              "    <tr>\n",
              "      <th>20</th>\n",
              "      <td>0.004101</td>\n",
              "      <td>0.007698</td>\n",
              "    </tr>\n",
              "    <tr>\n",
              "      <th>50</th>\n",
              "      <td>0.004352</td>\n",
              "      <td>0.007831</td>\n",
              "    </tr>\n",
              "    <tr>\n",
              "      <th>100</th>\n",
              "      <td>0.004989</td>\n",
              "      <td>0.010264</td>\n",
              "    </tr>\n",
              "    <tr>\n",
              "      <th>200</th>\n",
              "      <td>0.005617</td>\n",
              "      <td>0.009466</td>\n",
              "    </tr>\n",
              "  </tbody>\n",
              "</table>\n",
              "</div>"
            ],
            "text/plain": [
              "name       ext      poly\n",
              "size                    \n",
              "10    0.004351  0.011795\n",
              "20    0.004101  0.007698\n",
              "50    0.004352  0.007831\n",
              "100   0.004989  0.010264\n",
              "200   0.005617  0.009466"
            ]
          },
          "execution_count": 11,
          "metadata": {},
          "output_type": "execute_result"
        }
      ],
      "source": [
        "piv = df.pivot(\"size\", \"name\", \"average\")\n",
        "piv[:5]"
      ]
    },
    {
      "cell_type": "code",
      "execution_count": 11,
      "metadata": {},
      "outputs": [
        {
          "data": {
            "text/plain": [
              "Text(0.5, 0, 'number of observations')"
            ]
          },
          "execution_count": 12,
          "metadata": {},
          "output_type": "execute_result"
        },
        {
          "data": {
            "image/png": "[encoded data removed]",
            "text/plain": [
              "<Figure size 432x288 with 1 Axes>"
            ]
          },
          "metadata": {
            "needs_background": "light"
          },
          "output_type": "display_data"
        }
      ],
      "source": [
        "ax = piv.plot(logy=True, logx=True)\n",
        "ax.set_title(\"Polynomial Features for 5 features\\ndegree=2\")\n",
        "ax.set_xlabel(\"number of observations\")"
      ]
    },
    {
      "cell_type": "markdown",
      "metadata": {},
      "source": [
        "The gain is mostly visible for small dimensions."
      ]
    },
    {
      "cell_type": "markdown",
      "metadata": {},
      "source": [
        "## Comparison with 1000 observations\n",
        "\n",
        "In this experiment, the number of observations is fixed to 1000 but the number of features varies."
      ]
    },
    {
      "cell_type": "code",
      "execution_count": 12,
      "metadata": {},
      "outputs": [
        {
          "data": {
            "text/html": [
              "<div>\n",
              "<style scoped>\n",
              "    .dataframe tbody tr th:only-of-type {\n",
              "        vertical-align: middle;\n",
              "    }\n",
              "\n",
              "    .dataframe tbody tr th {\n",
              "        vertical-align: top;\n",
              "    }\n",
              "\n",
              "    .dataframe thead th {\n",
              "        text-align: right;\n",
              "    }\n",
              "</style>\n",
              "<table border=\"1\" class=\"dataframe\">\n",
              "  <thead>\n",
              "    <tr style=\"text-align: right;\">\n",
              "      <th></th>\n",
              "      <th>average</th>\n",
              "      <th>context_size</th>\n",
              "      <th>deviation</th>\n",
              "      <th>max_exec</th>\n",
              "      <th>min_exec</th>\n",
              "      <th>name</th>\n",
              "      <th>nfeat</th>\n",
              "      <th>number</th>\n",
              "      <th>numf</th>\n",
              "      <th>repeat</th>\n",
              "    </tr>\n",
              "  </thead>\n",
              "  <tbody>\n",
              "    <tr>\n",
              "      <th>21</th>\n",
              "      <td>0.074758</td>\n",
              "      <td>240</td>\n",
              "      <td>0.000997</td>\n",
              "      <td>0.076627</td>\n",
              "      <td>0.073863</td>\n",
              "      <td>ext</td>\n",
              "      <td>20</td>\n",
              "      <td>30</td>\n",
              "      <td>231</td>\n",
              "      <td>5</td>\n",
              "    </tr>\n",
              "    <tr>\n",
              "      <th>22</th>\n",
              "      <td>0.642869</td>\n",
              "      <td>240</td>\n",
              "      <td>0.020800</td>\n",
              "      <td>0.681936</td>\n",
              "      <td>0.620076</td>\n",
              "      <td>poly</td>\n",
              "      <td>40</td>\n",
              "      <td>30</td>\n",
              "      <td>861</td>\n",
              "      <td>5</td>\n",
              "    </tr>\n",
              "    <tr>\n",
              "      <th>23</th>\n",
              "      <td>0.269395</td>\n",
              "      <td>240</td>\n",
              "      <td>0.004042</td>\n",
              "      <td>0.276028</td>\n",
              "      <td>0.264767</td>\n",
              "      <td>ext</td>\n",
              "      <td>40</td>\n",
              "      <td>30</td>\n",
              "      <td>861</td>\n",
              "      <td>5</td>\n",
              "    </tr>\n",
              "    <tr>\n",
              "      <th>24</th>\n",
              "      <td>0.984982</td>\n",
              "      <td>240</td>\n",
              "      <td>0.004936</td>\n",
              "      <td>0.994451</td>\n",
              "      <td>0.979932</td>\n",
              "      <td>poly</td>\n",
              "      <td>50</td>\n",
              "      <td>30</td>\n",
              "      <td>1326</td>\n",
              "      <td>5</td>\n",
              "    </tr>\n",
              "    <tr>\n",
              "      <th>25</th>\n",
              "      <td>0.413509</td>\n",
              "      <td>240</td>\n",
              "      <td>0.004018</td>\n",
              "      <td>0.419934</td>\n",
              "      <td>0.409251</td>\n",
              "      <td>ext</td>\n",
              "      <td>50</td>\n",
              "      <td>30</td>\n",
              "      <td>1326</td>\n",
              "      <td>5</td>\n",
              "    </tr>\n",
              "  </tbody>\n",
              "</table>\n",
              "</div>"
            ],
            "text/plain": [
              "     average  context_size  deviation  max_exec  min_exec  name  nfeat  \\\n",
              "21  0.074758           240   0.000997  0.076627  0.073863   ext     20   \n",
              "22  0.642869           240   0.020800  0.681936  0.620076  poly     40   \n",
              "23  0.269395           240   0.004042  0.276028  0.264767   ext     40   \n",
              "24  0.984982           240   0.004936  0.994451  0.979932  poly     50   \n",
              "25  0.413509           240   0.004018  0.419934  0.409251   ext     50   \n",
              "\n",
              "    number  numf  repeat  \n",
              "21      30   231       5  \n",
              "22      30   861       5  \n",
              "23      30   861       5  \n",
              "24      30  1326       5  \n",
              "25      30  1326       5  "
            ]
          },
          "execution_count": 13,
          "metadata": {},
          "output_type": "execute_result"
        }
      ],
      "source": [
        "res = []\n",
        "for n in [2, 3, 4, 5, 6, 7, 8, 9, 10, 15, 20, 40, 50]:\n",
        "    X = numpy.random.random((1000, n))\n",
        "    r1 = measure_time(\"poly.fit_transform(X)\", context=dict(X=X, poly=poly), repeat=5, number=30)\n",
        "    r2 = measure_time(\"ext.fit_transform(X)\", context=dict(X=X, ext=ext), repeat=5, number=30)\n",
        "    r1[\"name\"] = \"poly\"\n",
        "    r2[\"name\"] = \"ext\"\n",
        "    r1[\"nfeat\"] = n\n",
        "    r2[\"nfeat\"] = n\n",
        "    x1 = poly.transform(X)\n",
        "    x2 = ext.transform(X)\n",
        "    r1[\"numf\"] = x1.shape[1]\n",
        "    r2[\"numf\"] = x2.shape[1]\n",
        "    res.append(r1)\n",
        "    res.append(r2)\n",
        "    \n",
        "import pandas\n",
        "df = pandas.DataFrame(res)\n",
        "df.tail()"
      ]
    },
    {
      "cell_type": "code",
      "execution_count": 13,
      "metadata": {},
      "outputs": [
        {
          "data": {
            "text/html": [
              "<div>\n",
              "<style scoped>\n",
              "    .dataframe tbody tr th:only-of-type {\n",
              "        vertical-align: middle;\n",
              "    }\n",
              "\n",
              "    .dataframe tbody tr th {\n",
              "        vertical-align: top;\n",
              "    }\n",
              "\n",
              "    .dataframe thead th {\n",
              "        text-align: right;\n",
              "    }\n",
              "</style>\n",
              "<table border=\"1\" class=\"dataframe\">\n",
              "  <thead>\n",
              "    <tr style=\"text-align: right;\">\n",
              "      <th>name</th>\n",
              "      <th>ext</th>\n",
              "      <th>poly</th>\n",
              "    </tr>\n",
              "    <tr>\n",
              "      <th>nfeat</th>\n",
              "      <th></th>\n",
              "      <th></th>\n",
              "    </tr>\n",
              "  </thead>\n",
              "  <tbody>\n",
              "    <tr>\n",
              "      <th>2</th>\n",
              "      <td>0.005297</td>\n",
              "      <td>0.011749</td>\n",
              "    </tr>\n",
              "    <tr>\n",
              "      <th>3</th>\n",
              "      <td>0.006570</td>\n",
              "      <td>0.009648</td>\n",
              "    </tr>\n",
              "    <tr>\n",
              "      <th>4</th>\n",
              "      <td>0.009826</td>\n",
              "      <td>0.012617</td>\n",
              "    </tr>\n",
              "    <tr>\n",
              "      <th>5</th>\n",
              "      <td>0.011999</td>\n",
              "      <td>0.017116</td>\n",
              "    </tr>\n",
              "    <tr>\n",
              "      <th>6</th>\n",
              "      <td>0.010219</td>\n",
              "      <td>0.020280</td>\n",
              "    </tr>\n",
              "  </tbody>\n",
              "</table>\n",
              "</div>"
            ],
            "text/plain": [
              "name        ext      poly\n",
              "nfeat                    \n",
              "2      0.005297  0.011749\n",
              "3      0.006570  0.009648\n",
              "4      0.009826  0.012617\n",
              "5      0.011999  0.017116\n",
              "6      0.010219  0.020280"
            ]
          },
          "execution_count": 14,
          "metadata": {},
          "output_type": "execute_result"
        }
      ],
      "source": [
        "piv = df.pivot(\"nfeat\", \"name\", \"average\")\n",
        "piv[:5]"
      ]
    },
    {
      "cell_type": "code",
      "execution_count": 14,
      "metadata": {},
      "outputs": [
        {
          "data": {
            "image/png": "[encoded data removed]",
            "text/plain": [
              "<Figure size 432x288 with 1 Axes>"
            ]
          },
          "metadata": {
            "needs_background": "light"
          },
          "output_type": "display_data"
        }
      ],
      "source": [
        "ax = piv.plot(logy=True, logx=True)\n",
        "ax.set_title(\"Polynomial Features for 1000 observations\\ndegree=2\")\n",
        "ax.set_xlabel(\"number of features\");"
      ]
    },
    {
      "cell_type": "markdown",
      "metadata": {},
      "source": [
        "It is faster by a short amount of time."
      ]
    },
    {
      "cell_type": "markdown",
      "metadata": {},
      "source": [
        "## Comparison for different degrees\n",
        "\n",
        "In this experiment, the number of observations and features is fixed, the degree increases."
      ]
    },
    {
      "cell_type": "code",
      "execution_count": 15,
      "metadata": {},
      "outputs": [
        {
          "data": {
            "text/html": [
              "<div>\n",
              "<style scoped>\n",
              "    .dataframe tbody tr th:only-of-type {\n",
              "        vertical-align: middle;\n",
              "    }\n",
              "\n",
              "    .dataframe tbody tr th {\n",
              "        vertical-align: top;\n",
              "    }\n",
              "\n",
              "    .dataframe thead th {\n",
              "        text-align: right;\n",
              "    }\n",
              "</style>\n",
              "<table border=\"1\" class=\"dataframe\">\n",
              "  <thead>\n",
              "    <tr style=\"text-align: right;\">\n",
              "      <th></th>\n",
              "      <th>average</th>\n",
              "      <th>context_size</th>\n",
              "      <th>degree</th>\n",
              "      <th>deviation</th>\n",
              "      <th>max_exec</th>\n",
              "      <th>min_exec</th>\n",
              "      <th>name</th>\n",
              "      <th>number</th>\n",
              "      <th>numf</th>\n",
              "      <th>repeat</th>\n",
              "    </tr>\n",
              "  </thead>\n",
              "  <tbody>\n",
              "    <tr>\n",
              "      <th>9</th>\n",
              "      <td>0.079539</td>\n",
              "      <td>240</td>\n",
              "      <td>6</td>\n",
              "      <td>0.001258</td>\n",
              "      <td>0.081451</td>\n",
              "      <td>0.078235</td>\n",
              "      <td>ext</td>\n",
              "      <td>30</td>\n",
              "      <td>210</td>\n",
              "      <td>5</td>\n",
              "    </tr>\n",
              "    <tr>\n",
              "      <th>10</th>\n",
              "      <td>0.256072</td>\n",
              "      <td>240</td>\n",
              "      <td>7</td>\n",
              "      <td>0.001661</td>\n",
              "      <td>0.257907</td>\n",
              "      <td>0.253251</td>\n",
              "      <td>poly</td>\n",
              "      <td>30</td>\n",
              "      <td>330</td>\n",
              "      <td>5</td>\n",
              "    </tr>\n",
              "    <tr>\n",
              "      <th>11</th>\n",
              "      <td>0.125454</td>\n",
              "      <td>240</td>\n",
              "      <td>7</td>\n",
              "      <td>0.002739</td>\n",
              "      <td>0.130682</td>\n",
              "      <td>0.122884</td>\n",
              "      <td>ext</td>\n",
              "      <td>30</td>\n",
              "      <td>330</td>\n",
              "      <td>5</td>\n",
              "    </tr>\n",
              "    <tr>\n",
              "      <th>12</th>\n",
              "      <td>0.398759</td>\n",
              "      <td>240</td>\n",
              "      <td>8</td>\n",
              "      <td>0.004418</td>\n",
              "      <td>0.404963</td>\n",
              "      <td>0.393494</td>\n",
              "      <td>poly</td>\n",
              "      <td>30</td>\n",
              "      <td>495</td>\n",
              "      <td>5</td>\n",
              "    </tr>\n",
              "    <tr>\n",
              "      <th>13</th>\n",
              "      <td>0.184939</td>\n",
              "      <td>240</td>\n",
              "      <td>8</td>\n",
              "      <td>0.002957</td>\n",
              "      <td>0.188949</td>\n",
              "      <td>0.180515</td>\n",
              "      <td>ext</td>\n",
              "      <td>30</td>\n",
              "      <td>495</td>\n",
              "      <td>5</td>\n",
              "    </tr>\n",
              "  </tbody>\n",
              "</table>\n",
              "</div>"
            ],
            "text/plain": [
              "     average  context_size  degree  deviation  max_exec  min_exec  name  \\\n",
              "9   0.079539           240       6   0.001258  0.081451  0.078235   ext   \n",
              "10  0.256072           240       7   0.001661  0.257907  0.253251  poly   \n",
              "11  0.125454           240       7   0.002739  0.130682  0.122884   ext   \n",
              "12  0.398759           240       8   0.004418  0.404963  0.393494  poly   \n",
              "13  0.184939           240       8   0.002957  0.188949  0.180515   ext   \n",
              "\n",
              "    number  numf  repeat  \n",
              "9       30   210       5  \n",
              "10      30   330       5  \n",
              "11      30   330       5  \n",
              "12      30   495       5  \n",
              "13      30   495       5  "
            ]
          },
          "execution_count": 16,
          "metadata": {},
          "output_type": "execute_result"
        }
      ],
      "source": [
        "res = []\n",
        "for n in [2, 3, 4, 5, 6, 7, 8]:\n",
        "    X = numpy.random.random((1000, 4))\n",
        "    poly = PolynomialFeatures(degree=n)\n",
        "    ext = ExtendedFeatures(poly_degree=n)\n",
        "    poly.fit(X)\n",
        "    ext.fit(X)\n",
        "    r1 = measure_time(\"poly.fit_transform(X)\", context=dict(X=X, poly=poly), repeat=5, number=30)\n",
        "    r2 = measure_time(\"ext.fit_transform(X)\", context=dict(X=X, ext=ext), repeat=5, number=30)\n",
        "    r1[\"name\"] = \"poly\"\n",
        "    r2[\"name\"] = \"ext\"\n",
        "    r1[\"degree\"] = n\n",
        "    r2[\"degree\"] = n\n",
        "    x1 = poly.transform(X)\n",
        "    x2 = ext.transform(X)\n",
        "    r1[\"numf\"] = x1.shape[1]\n",
        "    r2[\"numf\"] = x2.shape[1]\n",
        "    res.append(r1)\n",
        "    res.append(r2)\n",
        "    \n",
        "import pandas\n",
        "df = pandas.DataFrame(res)\n",
        "df.tail()"
      ]
    },
    {
      "cell_type": "code",
      "execution_count": 16,
      "metadata": {},
      "outputs": [
        {
          "data": {
            "text/html": [
              "<div>\n",
              "<style scoped>\n",
              "    .dataframe tbody tr th:only-of-type {\n",
              "        vertical-align: middle;\n",
              "    }\n",
              "\n",
              "    .dataframe tbody tr th {\n",
              "        vertical-align: top;\n",
              "    }\n",
              "\n",
              "    .dataframe thead th {\n",
              "        text-align: right;\n",
              "    }\n",
              "</style>\n",
              "<table border=\"1\" class=\"dataframe\">\n",
              "  <thead>\n",
              "    <tr style=\"text-align: right;\">\n",
              "      <th>name</th>\n",
              "      <th>ext</th>\n",
              "      <th>poly</th>\n",
              "    </tr>\n",
              "    <tr>\n",
              "      <th>degree</th>\n",
              "      <th></th>\n",
              "      <th></th>\n",
              "    </tr>\n",
              "  </thead>\n",
              "  <tbody>\n",
              "    <tr>\n",
              "      <th>2</th>\n",
              "      <td>0.006766</td>\n",
              "      <td>0.011471</td>\n",
              "    </tr>\n",
              "    <tr>\n",
              "      <th>3</th>\n",
              "      <td>0.012716</td>\n",
              "      <td>0.021234</td>\n",
              "    </tr>\n",
              "    <tr>\n",
              "      <th>4</th>\n",
              "      <td>0.020421</td>\n",
              "      <td>0.040854</td>\n",
              "    </tr>\n",
              "    <tr>\n",
              "      <th>5</th>\n",
              "      <td>0.033217</td>\n",
              "      <td>0.074457</td>\n",
              "    </tr>\n",
              "    <tr>\n",
              "      <th>6</th>\n",
              "      <td>0.079539</td>\n",
              "      <td>0.157700</td>\n",
              "    </tr>\n",
              "  </tbody>\n",
              "</table>\n",
              "</div>"
            ],
            "text/plain": [
              "name         ext      poly\n",
              "degree                    \n",
              "2       0.006766  0.011471\n",
              "3       0.012716  0.021234\n",
              "4       0.020421  0.040854\n",
              "5       0.033217  0.074457\n",
              "6       0.079539  0.157700"
            ]
          },
          "execution_count": 17,
          "metadata": {},
          "output_type": "execute_result"
        }
      ],
      "source": [
        "piv = df.pivot(\"degree\", \"name\", \"average\")\n",
        "piv[:5]"
      ]
    },
    {
      "cell_type": "code",
      "execution_count": 17,
      "metadata": {},
      "outputs": [
        {
          "data": {
            "image/png": "[encoded data removed]",
            "text/plain": [
              "<Figure size 432x288 with 1 Axes>"
            ]
          },
          "metadata": {
            "needs_background": "light"
          },
          "output_type": "display_data"
        }
      ],
      "source": [
        "ax = piv.plot(logy=True, logx=True)\n",
        "ax.set_title(\"Polynomial Features for 1000 observations\\nnumber of features is 4\")\n",
        "ax.set_xlabel(\"degree\");"
      ]
    },
    {
      "cell_type": "code",
      "execution_count": 18,
      "metadata": {},
      "outputs": [],
      "source": []
    }
  ],
  "metadata": {
    "kernelspec": {
      "display_name": "Python 3",
      "language": "python",
      "name": "python3"
    },
    "language_info": {
      "codemirror_mode": {
        "name": "ipython",
        "version": 3
      },
      "file_extension": ".py",
      "mimetype": "text/x-python",
      "name": "python",
      "nbconvert_exporter": "python",
      "pygments_lexer": "ipython3",
      "version": "3.7.2"
    }
  },
  "nbformat": 4,
  "nbformat_minor": 2
}