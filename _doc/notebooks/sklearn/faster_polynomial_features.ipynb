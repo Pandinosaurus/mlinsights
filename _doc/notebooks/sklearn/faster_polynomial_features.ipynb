{
  "cells": [
    {
      "cell_type": "markdown",
      "metadata": {},
      "source": [
        "# Faster Polynomial Features"
      ]
    },
    {
      "cell_type": "code",
      "execution_count": 1,
      "metadata": {},
      "outputs": [
        {
          "data": {
            "text/html": [
              "<div id=\"my_id_menu_nb\">run previous cell, wait for 2 seconds</div>\n",
              "<script>\n",
              "function repeat_indent_string(n){\n",
              "    var a = \"\" ;\n",
              "    for ( ; n > 0 ; --n)\n",
              "        a += \"    \";\n",
              "    return a;\n",
              "}\n",
              "// look up into all sections and builds an automated menu //\n",
              "var update_menu_string = function(begin, lfirst, llast, sformat, send, keep_item, begin_format, end_format) {\n",
              "    var anchors = document.getElementsByClassName(\"section\");\n",
              "    if (anchors.length == 0) {\n",
              "        anchors = document.getElementsByClassName(\"text_cell_render rendered_html\");\n",
              "    }\n",
              "    var i,t;\n",
              "    var text_menu = begin;\n",
              "    var text_memo = \"<pre>\\nlength:\" + anchors.length + \"\\n\";\n",
              "    var ind = \"\";\n",
              "    var memo_level = 1;\n",
              "    var href;\n",
              "    var tags = [];\n",
              "    var main_item = 0;\n",
              "    var format_open = 0;\n",
              "    for (i = 0; i <= llast; i++)\n",
              "        tags.push(\"h\" + i);\n",
              "\n",
              "    for (i = 0; i < anchors.length; i++) {\n",
              "        text_memo += \"**\" + anchors[i].id + \"--\\n\";\n",
              "\n",
              "        var child = null;\n",
              "        for(t = 0; t < tags.length; t++) {\n",
              "            var r = anchors[i].getElementsByTagName(tags[t]);\n",
              "            if (r.length > 0) {\n",
              "child = r[0];\n",
              "break;\n",
              "            }\n",
              "        }\n",
              "        if (child == null) {\n",
              "            text_memo += \"null\\n\";\n",
              "            continue;\n",
              "        }\n",
              "        if (anchors[i].hasAttribute(\"id\")) {\n",
              "            // when converted in RST\n",
              "            href = anchors[i].id;\n",
              "            text_memo += \"#1-\" + href;\n",
              "            // passer \u00e0 child suivant (le chercher)\n",
              "        }\n",
              "        else if (child.hasAttribute(\"id\")) {\n",
              "            // in a notebook\n",
              "            href = child.id;\n",
              "            text_memo += \"#2-\" + href;\n",
              "        }\n",
              "        else {\n",
              "            text_memo += \"#3-\" + \"*\" + \"\\n\";\n",
              "            continue;\n",
              "        }\n",
              "        var title = child.textContent;\n",
              "        var level = parseInt(child.tagName.substring(1,2));\n",
              "\n",
              "        text_memo += \"--\" + level + \"?\" + lfirst + \"--\" + title + \"\\n\";\n",
              "\n",
              "        if ((level < lfirst) || (level > llast)) {\n",
              "            continue ;\n",
              "        }\n",
              "        if (title.endsWith('\u00b6')) {\n",
              "            title = title.substring(0,title.length-1).replace(\"<\", \"&lt;\")\n",
              "         .replace(\">\", \"&gt;\").replace(\"&\", \"&amp;\");\n",
              "        }\n",
              "        if (title.length == 0) {\n",
              "            continue;\n",
              "        }\n",
              "\n",
              "        while (level < memo_level) {\n",
              "            text_menu += end_format + \"</ul>\\n\";\n",
              "            format_open -= 1;\n",
              "            memo_level -= 1;\n",
              "        }\n",
              "        if (level == lfirst) {\n",
              "            main_item += 1;\n",
              "        }\n",
              "        if (keep_item != -1 && main_item != keep_item + 1) {\n",
              "            // alert(main_item + \" - \" + level + \" - \" + keep_item);\n",
              "            continue;\n",
              "        }\n",
              "        while (level > memo_level) {\n",
              "            text_menu += \"<ul>\\n\";\n",
              "            memo_level += 1;\n",
              "        }\n",
              "        text_menu += repeat_indent_string(level-2);\n",
              "        text_menu += begin_format + sformat.replace(\"__HREF__\", href).replace(\"__TITLE__\", title);\n",
              "        format_open += 1;\n",
              "    }\n",
              "    while (1 < memo_level) {\n",
              "        text_menu += end_format + \"</ul>\\n\";\n",
              "        memo_level -= 1;\n",
              "        format_open -= 1;\n",
              "    }\n",
              "    text_menu += send;\n",
              "    //text_menu += \"\\n\" + text_memo;\n",
              "\n",
              "    while (format_open > 0) {\n",
              "        text_menu += end_format;\n",
              "        format_open -= 1;\n",
              "    }\n",
              "    return text_menu;\n",
              "};\n",
              "var update_menu = function() {\n",
              "    var sbegin = \"\";\n",
              "    var sformat = '<a href=\"#__HREF__\">__TITLE__</a>';\n",
              "    var send = \"\";\n",
              "    var begin_format = '<li>';\n",
              "    var end_format = '</li>';\n",
              "    var keep_item = -1;\n",
              "    var text_menu = update_menu_string(sbegin, 2, 4, sformat, send, keep_item,\n",
              "       begin_format, end_format);\n",
              "    var menu = document.getElementById(\"my_id_menu_nb\");\n",
              "    menu.innerHTML=text_menu;\n",
              "};\n",
              "window.setTimeout(update_menu,2000);\n",
              "            </script>"
            ],
            "text/plain": [
              "<IPython.core.display.HTML object>"
            ]
          },
          "execution_count": 2,
          "metadata": {},
          "output_type": "execute_result"
        }
      ],
      "source": [
        "from jyquickhelper import add_notebook_menu\n",
        "add_notebook_menu()"
      ]
    },
    {
      "cell_type": "code",
      "execution_count": 2,
      "metadata": {},
      "outputs": [],
      "source": [
        "%matplotlib inline"
      ]
    },
    {
      "cell_type": "markdown",
      "metadata": {},
      "source": [
        "## Polynomial Features\n",
        "\n",
        "The current implementation of [PolynomialFeatures](https://scikit-learn.org/stable/modules/generated/sklearn.preprocessing.PolynomialFeatures.html) (0.20.2) implements a term by term product for each pair $X_i, X_j$ of features where $i \\leqslant j$ which is not the most efficient way to do it."
      ]
    },
    {
      "cell_type": "code",
      "execution_count": 3,
      "metadata": {},
      "outputs": [],
      "source": [
        "import numpy.random\n",
        "X = numpy.random.random((100, 5))"
      ]
    },
    {
      "cell_type": "code",
      "execution_count": 4,
      "metadata": {},
      "outputs": [
        {
          "data": {
            "text/plain": [
              "['1',\n",
              " 'x0',\n",
              " 'x1',\n",
              " 'x2',\n",
              " 'x3',\n",
              " 'x4',\n",
              " 'x0^2',\n",
              " 'x0 x1',\n",
              " 'x0 x2',\n",
              " 'x0 x3',\n",
              " 'x0 x4',\n",
              " 'x1^2',\n",
              " 'x1 x2',\n",
              " 'x1 x3',\n",
              " 'x1 x4',\n",
              " 'x2^2',\n",
              " 'x2 x3',\n",
              " 'x2 x4',\n",
              " 'x3^2',\n",
              " 'x3 x4',\n",
              " 'x4^2']"
            ]
          },
          "execution_count": 5,
          "metadata": {},
          "output_type": "execute_result"
        }
      ],
      "source": [
        "from sklearn.preprocessing import PolynomialFeatures\n",
        "poly = PolynomialFeatures(degree=2)\n",
        "Xpoly = poly.fit_transform(X)\n",
        "poly.get_feature_names()"
      ]
    },
    {
      "cell_type": "code",
      "execution_count": 5,
      "metadata": {},
      "outputs": [
        {
          "name": "stdout",
          "output_type": "stream",
          "text": [
            "210 \u00b5s \u00b1 5.17 \u00b5s per loop (mean \u00b1 std. dev. of 7 runs, 1000 loops each)\n"
          ]
        }
      ],
      "source": [
        "%timeit poly.transform(X)"
      ]
    },
    {
      "cell_type": "markdown",
      "metadata": {},
      "source": [
        "The class [ExtendedFeatures](http://www.xavierdupre.fr/app/mlinsights/helpsphinx/mlinsights/mlmodel/extended_features.html) implements a different way to compute the polynomial features as it tries to reduce the number of calls to numpy by using broacasted vector multplications."
      ]
    },
    {
      "cell_type": "code",
      "execution_count": 6,
      "metadata": {},
      "outputs": [
        {
          "data": {
            "text/plain": [
              "['1',\n",
              " 'x0',\n",
              " 'x1',\n",
              " 'x2',\n",
              " 'x3',\n",
              " 'x4',\n",
              " 'x0^2',\n",
              " 'x0 x1',\n",
              " 'x0 x2',\n",
              " 'x0 x3',\n",
              " 'x0 x4',\n",
              " 'x1^2',\n",
              " 'x1 x2',\n",
              " 'x1 x3',\n",
              " 'x1 x4',\n",
              " 'x2^2',\n",
              " 'x2 x3',\n",
              " 'x2 x4',\n",
              " 'x3^2',\n",
              " 'x3 x4',\n",
              " 'x4^2']"
            ]
          },
          "execution_count": 7,
          "metadata": {},
          "output_type": "execute_result"
        }
      ],
      "source": [
        "from mlinsights.mlmodel import ExtendedFeatures\n",
        "ext = ExtendedFeatures(poly_degree=2)\n",
        "Xpoly = ext.fit_transform(X)\n",
        "ext.get_feature_names()"
      ]
    },
    {
      "cell_type": "code",
      "execution_count": 7,
      "metadata": {},
      "outputs": [
        {
          "name": "stdout",
          "output_type": "stream",
          "text": [
            "38.5 \u00b5s \u00b1 432 ns per loop (mean \u00b1 std. dev. of 7 runs, 10000 loops each)\n"
          ]
        }
      ],
      "source": [
        "%timeit ext.transform(X)"
      ]
    },
    {
      "cell_type": "markdown",
      "metadata": {},
      "source": [
        "## Comparison with 5 features"
      ]
    },
    {
      "cell_type": "code",
      "execution_count": 8,
      "metadata": {},
      "outputs": [],
      "source": [
        "from cpyquickhelper.numbers import measure_time"
      ]
    },
    {
      "cell_type": "code",
      "execution_count": 9,
      "metadata": {},
      "outputs": [
        {
          "data": {
            "text/html": [
              "<div>\n",
              "<style scoped>\n",
              "    .dataframe tbody tr th:only-of-type {\n",
              "        vertical-align: middle;\n",
              "    }\n",
              "\n",
              "    .dataframe tbody tr th {\n",
              "        vertical-align: top;\n",
              "    }\n",
              "\n",
              "    .dataframe thead th {\n",
              "        text-align: right;\n",
              "    }\n",
              "</style>\n",
              "<table border=\"1\" class=\"dataframe\">\n",
              "  <thead>\n",
              "    <tr style=\"text-align: right;\">\n",
              "      <th></th>\n",
              "      <th>average</th>\n",
              "      <th>context_size</th>\n",
              "      <th>deviation</th>\n",
              "      <th>max_exec</th>\n",
              "      <th>min_exec</th>\n",
              "      <th>name</th>\n",
              "      <th>number</th>\n",
              "      <th>repeat</th>\n",
              "      <th>size</th>\n",
              "    </tr>\n",
              "  </thead>\n",
              "  <tbody>\n",
              "    <tr>\n",
              "      <th>63</th>\n",
              "      <td>0.028630</td>\n",
              "      <td>240</td>\n",
              "      <td>0.000248</td>\n",
              "      <td>0.028936</td>\n",
              "      <td>0.028318</td>\n",
              "      <td>ext+fit</td>\n",
              "      <td>10</td>\n",
              "      <td>5</td>\n",
              "      <td>100000</td>\n",
              "    </tr>\n",
              "    <tr>\n",
              "      <th>64</th>\n",
              "      <td>0.139464</td>\n",
              "      <td>240</td>\n",
              "      <td>0.000438</td>\n",
              "      <td>0.140284</td>\n",
              "      <td>0.138990</td>\n",
              "      <td>poly</td>\n",
              "      <td>10</td>\n",
              "      <td>5</td>\n",
              "      <td>200000</td>\n",
              "    </tr>\n",
              "    <tr>\n",
              "      <th>65</th>\n",
              "      <td>0.055398</td>\n",
              "      <td>240</td>\n",
              "      <td>0.000399</td>\n",
              "      <td>0.055847</td>\n",
              "      <td>0.054813</td>\n",
              "      <td>ext</td>\n",
              "      <td>10</td>\n",
              "      <td>5</td>\n",
              "      <td>200000</td>\n",
              "    </tr>\n",
              "    <tr>\n",
              "      <th>66</th>\n",
              "      <td>0.141629</td>\n",
              "      <td>240</td>\n",
              "      <td>0.002666</td>\n",
              "      <td>0.146769</td>\n",
              "      <td>0.139516</td>\n",
              "      <td>poly+fit</td>\n",
              "      <td>10</td>\n",
              "      <td>5</td>\n",
              "      <td>200000</td>\n",
              "    </tr>\n",
              "    <tr>\n",
              "      <th>67</th>\n",
              "      <td>0.057825</td>\n",
              "      <td>240</td>\n",
              "      <td>0.000914</td>\n",
              "      <td>0.059399</td>\n",
              "      <td>0.056846</td>\n",
              "      <td>ext+fit</td>\n",
              "      <td>10</td>\n",
              "      <td>5</td>\n",
              "      <td>200000</td>\n",
              "    </tr>\n",
              "  </tbody>\n",
              "</table>\n",
              "</div>"
            ],
            "text/plain": [
              "     average  context_size  deviation  max_exec  min_exec      name  number  \\\n",
              "63  0.028630           240   0.000248  0.028936  0.028318   ext+fit      10   \n",
              "64  0.139464           240   0.000438  0.140284  0.138990      poly      10   \n",
              "65  0.055398           240   0.000399  0.055847  0.054813       ext      10   \n",
              "66  0.141629           240   0.002666  0.146769  0.139516  poly+fit      10   \n",
              "67  0.057825           240   0.000914  0.059399  0.056846   ext+fit      10   \n",
              "\n",
              "    repeat    size  \n",
              "63       5  100000  \n",
              "64       5  200000  \n",
              "65       5  200000  \n",
              "66       5  200000  \n",
              "67       5  200000  "
            ]
          },
          "execution_count": 10,
          "metadata": {},
          "output_type": "execute_result"
        }
      ],
      "source": [
        "res = []\n",
        "for n in [1, 2, 5, 10, 20, 50, 100, 200, 500, 1000, 2000, \n",
        "          5000, 10000, 20000, 50000, 100000, 200000]:\n",
        "    X = numpy.random.random((n, 5))\n",
        "    poly.fit(X)\n",
        "    ext.fit(X)\n",
        "    r1 = measure_time(\"poly.transform(X)\", context=dict(X=X, poly=poly), repeat=5, number=10, div_by_number=True)\n",
        "    r2 = measure_time(\"ext.transform(X)\", context=dict(X=X, ext=ext), repeat=5, number=10, div_by_number=True)\n",
        "    r3 = measure_time(\"poly.fit_transform(X)\", context=dict(X=X, poly=poly), repeat=5, number=10, div_by_number=True)\n",
        "    r4 = measure_time(\"ext.fit_transform(X)\", context=dict(X=X, ext=ext), repeat=5, number=10, div_by_number=True)\n",
        "    r1[\"name\"] = \"poly\"\n",
        "    r2[\"name\"] = \"ext\"\n",
        "    r3[\"name\"] = \"poly+fit\"\n",
        "    r4[\"name\"] = \"ext+fit\"\n",
        "    r1[\"size\"] = n\n",
        "    r2[\"size\"] = n\n",
        "    r3[\"size\"] = n\n",
        "    r4[\"size\"] = n\n",
        "    res.append(r1)\n",
        "    res.append(r2)\n",
        "    res.append(r3)\n",
        "    res.append(r4)\n",
        "    \n",
        "import pandas\n",
        "df = pandas.DataFrame(res)\n",
        "df.tail()"
      ]
    },
    {
      "cell_type": "code",
      "execution_count": 10,
      "metadata": {},
      "outputs": [
        {
          "data": {
            "text/html": [
              "<div>\n",
              "<style scoped>\n",
              "    .dataframe tbody tr th:only-of-type {\n",
              "        vertical-align: middle;\n",
              "    }\n",
              "\n",
              "    .dataframe tbody tr th {\n",
              "        vertical-align: top;\n",
              "    }\n",
              "\n",
              "    .dataframe thead th {\n",
              "        text-align: right;\n",
              "    }\n",
              "</style>\n",
              "<table border=\"1\" class=\"dataframe\">\n",
              "  <thead>\n",
              "    <tr style=\"text-align: right;\">\n",
              "      <th>name</th>\n",
              "      <th>ext</th>\n",
              "      <th>ext+fit</th>\n",
              "      <th>poly</th>\n",
              "      <th>poly+fit</th>\n",
              "    </tr>\n",
              "    <tr>\n",
              "      <th>size</th>\n",
              "      <th></th>\n",
              "      <th></th>\n",
              "      <th></th>\n",
              "      <th></th>\n",
              "    </tr>\n",
              "  </thead>\n",
              "  <tbody>\n",
              "    <tr>\n",
              "      <th>1</th>\n",
              "      <td>0.000019</td>\n",
              "      <td>0.000114</td>\n",
              "      <td>0.000337</td>\n",
              "      <td>0.000215</td>\n",
              "    </tr>\n",
              "    <tr>\n",
              "      <th>2</th>\n",
              "      <td>0.000026</td>\n",
              "      <td>0.000118</td>\n",
              "      <td>0.000193</td>\n",
              "      <td>0.000232</td>\n",
              "    </tr>\n",
              "    <tr>\n",
              "      <th>5</th>\n",
              "      <td>0.000027</td>\n",
              "      <td>0.000117</td>\n",
              "      <td>0.000189</td>\n",
              "      <td>0.000232</td>\n",
              "    </tr>\n",
              "    <tr>\n",
              "      <th>10</th>\n",
              "      <td>0.000032</td>\n",
              "      <td>0.000115</td>\n",
              "      <td>0.000243</td>\n",
              "      <td>0.000248</td>\n",
              "    </tr>\n",
              "    <tr>\n",
              "      <th>20</th>\n",
              "      <td>0.000031</td>\n",
              "      <td>0.000113</td>\n",
              "      <td>0.000211</td>\n",
              "      <td>0.000249</td>\n",
              "    </tr>\n",
              "  </tbody>\n",
              "</table>\n",
              "</div>"
            ],
            "text/plain": [
              "name       ext   ext+fit      poly  poly+fit\n",
              "size                                        \n",
              "1     0.000019  0.000114  0.000337  0.000215\n",
              "2     0.000026  0.000118  0.000193  0.000232\n",
              "5     0.000027  0.000117  0.000189  0.000232\n",
              "10    0.000032  0.000115  0.000243  0.000248\n",
              "20    0.000031  0.000113  0.000211  0.000249"
            ]
          },
          "execution_count": 11,
          "metadata": {},
          "output_type": "execute_result"
        }
      ],
      "source": [
        "piv = df.pivot(\"size\", \"name\", \"average\")\n",
        "piv[:5]"
      ]
    },
    {
      "cell_type": "code",
      "execution_count": 11,
      "metadata": {},
      "outputs": [
        {
          "data": {
            "image/png": "[encoded data removed]",
            "text/plain": [
              "<Figure size 432x288 with 1 Axes>"
            ]
          },
          "metadata": {
            "needs_background": "light"
          },
          "output_type": "display_data"
        }
      ],
      "source": [
        "ax = piv.plot(logy=True, logx=True)\n",
        "ax.set_title(\"Polynomial Features for 5 features\\ndegree=2\")\n",
        "ax.set_ylabel(\"seconds\")\n",
        "ax.set_xlabel(\"number of observations\");"
      ]
    },
    {
      "cell_type": "markdown",
      "metadata": {},
      "source": [
        "The gain is mostly visible for small dimensions."
      ]
    },
    {
      "cell_type": "markdown",
      "metadata": {},
      "source": [
        "## Comparison with 1000 observations\n",
        "\n",
        "In this experiment, the number of observations is fixed to 1000 but the number of features varies."
      ]
    },
    {
      "cell_type": "code",
      "execution_count": 12,
      "metadata": {},
      "outputs": [
        {
          "data": {
            "text/html": [
              "<div>\n",
              "<style scoped>\n",
              "    .dataframe tbody tr th:only-of-type {\n",
              "        vertical-align: middle;\n",
              "    }\n",
              "\n",
              "    .dataframe tbody tr th {\n",
              "        vertical-align: top;\n",
              "    }\n",
              "\n",
              "    .dataframe thead th {\n",
              "        text-align: right;\n",
              "    }\n",
              "</style>\n",
              "<table border=\"1\" class=\"dataframe\">\n",
              "  <thead>\n",
              "    <tr style=\"text-align: right;\">\n",
              "      <th></th>\n",
              "      <th>average</th>\n",
              "      <th>context_size</th>\n",
              "      <th>deviation</th>\n",
              "      <th>max_exec</th>\n",
              "      <th>min_exec</th>\n",
              "      <th>name</th>\n",
              "      <th>nfeat</th>\n",
              "      <th>number</th>\n",
              "      <th>numf</th>\n",
              "      <th>repeat</th>\n",
              "    </tr>\n",
              "  </thead>\n",
              "  <tbody>\n",
              "    <tr>\n",
              "      <th>37</th>\n",
              "      <td>0.007274</td>\n",
              "      <td>240</td>\n",
              "      <td>0.000198</td>\n",
              "      <td>0.007628</td>\n",
              "      <td>0.007063</td>\n",
              "      <td>ext</td>\n",
              "      <td>40</td>\n",
              "      <td>30</td>\n",
              "      <td>861</td>\n",
              "      <td>5</td>\n",
              "    </tr>\n",
              "    <tr>\n",
              "      <th>38</th>\n",
              "      <td>0.018662</td>\n",
              "      <td>240</td>\n",
              "      <td>0.000158</td>\n",
              "      <td>0.018944</td>\n",
              "      <td>0.018472</td>\n",
              "      <td>extslow</td>\n",
              "      <td>40</td>\n",
              "      <td>30</td>\n",
              "      <td>861</td>\n",
              "      <td>5</td>\n",
              "    </tr>\n",
              "    <tr>\n",
              "      <th>39</th>\n",
              "      <td>0.024125</td>\n",
              "      <td>240</td>\n",
              "      <td>0.000230</td>\n",
              "      <td>0.024498</td>\n",
              "      <td>0.023862</td>\n",
              "      <td>poly</td>\n",
              "      <td>50</td>\n",
              "      <td>30</td>\n",
              "      <td>1326</td>\n",
              "      <td>5</td>\n",
              "    </tr>\n",
              "    <tr>\n",
              "      <th>40</th>\n",
              "      <td>0.011043</td>\n",
              "      <td>240</td>\n",
              "      <td>0.000080</td>\n",
              "      <td>0.011138</td>\n",
              "      <td>0.010898</td>\n",
              "      <td>ext</td>\n",
              "      <td>50</td>\n",
              "      <td>30</td>\n",
              "      <td>1326</td>\n",
              "      <td>5</td>\n",
              "    </tr>\n",
              "    <tr>\n",
              "      <th>41</th>\n",
              "      <td>0.029357</td>\n",
              "      <td>240</td>\n",
              "      <td>0.000075</td>\n",
              "      <td>0.029457</td>\n",
              "      <td>0.029225</td>\n",
              "      <td>extslow</td>\n",
              "      <td>50</td>\n",
              "      <td>30</td>\n",
              "      <td>1326</td>\n",
              "      <td>5</td>\n",
              "    </tr>\n",
              "  </tbody>\n",
              "</table>\n",
              "</div>"
            ],
            "text/plain": [
              "     average  context_size  deviation  max_exec  min_exec     name  nfeat  \\\n",
              "37  0.007274           240   0.000198  0.007628  0.007063      ext     40   \n",
              "38  0.018662           240   0.000158  0.018944  0.018472  extslow     40   \n",
              "39  0.024125           240   0.000230  0.024498  0.023862     poly     50   \n",
              "40  0.011043           240   0.000080  0.011138  0.010898      ext     50   \n",
              "41  0.029357           240   0.000075  0.029457  0.029225  extslow     50   \n",
              "\n",
              "    number  numf  repeat  \n",
              "37      30   861       5  \n",
              "38      30   861       5  \n",
              "39      30  1326       5  \n",
              "40      30  1326       5  \n",
              "41      30  1326       5  "
            ]
          },
          "execution_count": 13,
          "metadata": {},
          "output_type": "execute_result"
        }
      ],
      "source": [
        "poly = PolynomialFeatures(degree=2)\n",
        "ext = ExtendedFeatures(poly_degree=2)\n",
        "# implementation of PolynomialFeatures in 0.20.2\n",
        "extslow = ExtendedFeatures(poly_degree=2, kind=\"poly-slow\") \n",
        "\n",
        "\n",
        "res = []\n",
        "for n in [1, 2, 3, 4, 5, 6, 7, 8, 9, 10, 15, 20, 40, 50]:\n",
        "    X = numpy.random.random((1000, n))\n",
        "    poly.fit(X)\n",
        "    ext.fit(X)\n",
        "    extslow.fit(X)\n",
        "    r1 = measure_time(\"poly.transform(X)\", context=dict(X=X, poly=poly), repeat=5, number=30, div_by_number=True)\n",
        "    r2 = measure_time(\"ext.transform(X)\", context=dict(X=X, ext=ext), repeat=5, number=30, div_by_number=True)\n",
        "    r3 = measure_time(\"extslow.transform(X)\", context=dict(X=X, extslow=extslow), repeat=5, number=30, div_by_number=True)\n",
        "    r1[\"name\"] = \"poly\"\n",
        "    r2[\"name\"] = \"ext\"\n",
        "    r3[\"name\"] = \"extslow\"\n",
        "    r1[\"nfeat\"] = n\n",
        "    r2[\"nfeat\"] = n\n",
        "    r3[\"nfeat\"] = n\n",
        "    x1 = poly.transform(X)\n",
        "    x2 = ext.transform(X)\n",
        "    x3 = extslow.transform(X)\n",
        "    r1[\"numf\"] = x1.shape[1]\n",
        "    r2[\"numf\"] = x2.shape[1]\n",
        "    r3[\"numf\"] = x3.shape[1]\n",
        "    res.append(r1)\n",
        "    res.append(r2)\n",
        "    res.append(r3)\n",
        "    \n",
        "import pandas\n",
        "df = pandas.DataFrame(res)\n",
        "df.tail()"
      ]
    },
    {
      "cell_type": "code",
      "execution_count": 13,
      "metadata": {},
      "outputs": [
        {
          "data": {
            "text/html": [
              "<div>\n",
              "<style scoped>\n",
              "    .dataframe tbody tr th:only-of-type {\n",
              "        vertical-align: middle;\n",
              "    }\n",
              "\n",
              "    .dataframe tbody tr th {\n",
              "        vertical-align: top;\n",
              "    }\n",
              "\n",
              "    .dataframe thead th {\n",
              "        text-align: right;\n",
              "    }\n",
              "</style>\n",
              "<table border=\"1\" class=\"dataframe\">\n",
              "  <thead>\n",
              "    <tr style=\"text-align: right;\">\n",
              "      <th>name</th>\n",
              "      <th>ext</th>\n",
              "      <th>extslow</th>\n",
              "      <th>poly</th>\n",
              "    </tr>\n",
              "    <tr>\n",
              "      <th>nfeat</th>\n",
              "      <th></th>\n",
              "      <th></th>\n",
              "      <th></th>\n",
              "    </tr>\n",
              "  </thead>\n",
              "  <tbody>\n",
              "    <tr>\n",
              "      <th>1</th>\n",
              "      <td>0.000026</td>\n",
              "      <td>0.000050</td>\n",
              "      <td>0.000207</td>\n",
              "    </tr>\n",
              "    <tr>\n",
              "      <th>2</th>\n",
              "      <td>0.000059</td>\n",
              "      <td>0.000084</td>\n",
              "      <td>0.000158</td>\n",
              "    </tr>\n",
              "    <tr>\n",
              "      <th>3</th>\n",
              "      <td>0.000081</td>\n",
              "      <td>0.000139</td>\n",
              "      <td>0.000174</td>\n",
              "    </tr>\n",
              "    <tr>\n",
              "      <th>4</th>\n",
              "      <td>0.000115</td>\n",
              "      <td>0.000207</td>\n",
              "      <td>0.000243</td>\n",
              "    </tr>\n",
              "    <tr>\n",
              "      <th>5</th>\n",
              "      <td>0.000146</td>\n",
              "      <td>0.000284</td>\n",
              "      <td>0.000353</td>\n",
              "    </tr>\n",
              "  </tbody>\n",
              "</table>\n",
              "</div>"
            ],
            "text/plain": [
              "name        ext   extslow      poly\n",
              "nfeat                              \n",
              "1      0.000026  0.000050  0.000207\n",
              "2      0.000059  0.000084  0.000158\n",
              "3      0.000081  0.000139  0.000174\n",
              "4      0.000115  0.000207  0.000243\n",
              "5      0.000146  0.000284  0.000353"
            ]
          },
          "execution_count": 14,
          "metadata": {},
          "output_type": "execute_result"
        }
      ],
      "source": [
        "piv = df.pivot(\"nfeat\", \"name\", \"average\")\n",
        "piv[:5]"
      ]
    },
    {
      "cell_type": "code",
      "execution_count": 14,
      "metadata": {},
      "outputs": [
        {
          "data": {
            "image/png": "[encoded data removed]",
            "text/plain": [
              "<Figure size 432x288 with 1 Axes>"
            ]
          },
          "metadata": {
            "needs_background": "light"
          },
          "output_type": "display_data"
        }
      ],
      "source": [
        "ax = piv.plot(logy=True, logx=True)\n",
        "ax.set_title(\"Polynomial Features for 1000 observations\\ndegree=2\")\n",
        "ax.set_ylabel(\"seconds\")\n",
        "ax.set_xlabel(\"number of features\");"
      ]
    },
    {
      "cell_type": "markdown",
      "metadata": {},
      "source": [
        "It is twice faster."
      ]
    },
    {
      "cell_type": "markdown",
      "metadata": {},
      "source": [
        "## Comparison for different degrees\n",
        "\n",
        "In this experiment, the number of observations and features is fixed, the degree increases."
      ]
    },
    {
      "cell_type": "code",
      "execution_count": 15,
      "metadata": {},
      "outputs": [
        {
          "data": {
            "text/html": [
              "<div>\n",
              "<style scoped>\n",
              "    .dataframe tbody tr th:only-of-type {\n",
              "        vertical-align: middle;\n",
              "    }\n",
              "\n",
              "    .dataframe tbody tr th {\n",
              "        vertical-align: top;\n",
              "    }\n",
              "\n",
              "    .dataframe thead th {\n",
              "        text-align: right;\n",
              "    }\n",
              "</style>\n",
              "<table border=\"1\" class=\"dataframe\">\n",
              "  <thead>\n",
              "    <tr style=\"text-align: right;\">\n",
              "      <th></th>\n",
              "      <th>average</th>\n",
              "      <th>context_size</th>\n",
              "      <th>degree</th>\n",
              "      <th>deviation</th>\n",
              "      <th>max_exec</th>\n",
              "      <th>min_exec</th>\n",
              "      <th>name</th>\n",
              "      <th>number</th>\n",
              "      <th>numf</th>\n",
              "      <th>repeat</th>\n",
              "    </tr>\n",
              "  </thead>\n",
              "  <tbody>\n",
              "    <tr>\n",
              "      <th>9</th>\n",
              "      <td>0.001721</td>\n",
              "      <td>240</td>\n",
              "      <td>6</td>\n",
              "      <td>0.000048</td>\n",
              "      <td>0.001813</td>\n",
              "      <td>0.001675</td>\n",
              "      <td>ext</td>\n",
              "      <td>30</td>\n",
              "      <td>210</td>\n",
              "      <td>5</td>\n",
              "    </tr>\n",
              "    <tr>\n",
              "      <th>10</th>\n",
              "      <td>0.006690</td>\n",
              "      <td>240</td>\n",
              "      <td>7</td>\n",
              "      <td>0.000190</td>\n",
              "      <td>0.007066</td>\n",
              "      <td>0.006559</td>\n",
              "      <td>poly</td>\n",
              "      <td>30</td>\n",
              "      <td>330</td>\n",
              "      <td>5</td>\n",
              "    </tr>\n",
              "    <tr>\n",
              "      <th>11</th>\n",
              "      <td>0.002510</td>\n",
              "      <td>240</td>\n",
              "      <td>7</td>\n",
              "      <td>0.000008</td>\n",
              "      <td>0.002523</td>\n",
              "      <td>0.002503</td>\n",
              "      <td>ext</td>\n",
              "      <td>30</td>\n",
              "      <td>330</td>\n",
              "      <td>5</td>\n",
              "    </tr>\n",
              "    <tr>\n",
              "      <th>12</th>\n",
              "      <td>0.011836</td>\n",
              "      <td>240</td>\n",
              "      <td>8</td>\n",
              "      <td>0.001140</td>\n",
              "      <td>0.013301</td>\n",
              "      <td>0.010589</td>\n",
              "      <td>poly</td>\n",
              "      <td>30</td>\n",
              "      <td>495</td>\n",
              "      <td>5</td>\n",
              "    </tr>\n",
              "    <tr>\n",
              "      <th>13</th>\n",
              "      <td>0.004232</td>\n",
              "      <td>240</td>\n",
              "      <td>8</td>\n",
              "      <td>0.000464</td>\n",
              "      <td>0.004955</td>\n",
              "      <td>0.003853</td>\n",
              "      <td>ext</td>\n",
              "      <td>30</td>\n",
              "      <td>495</td>\n",
              "      <td>5</td>\n",
              "    </tr>\n",
              "  </tbody>\n",
              "</table>\n",
              "</div>"
            ],
            "text/plain": [
              "     average  context_size  degree  deviation  max_exec  min_exec  name  \\\n",
              "9   0.001721           240       6   0.000048  0.001813  0.001675   ext   \n",
              "10  0.006690           240       7   0.000190  0.007066  0.006559  poly   \n",
              "11  0.002510           240       7   0.000008  0.002523  0.002503   ext   \n",
              "12  0.011836           240       8   0.001140  0.013301  0.010589  poly   \n",
              "13  0.004232           240       8   0.000464  0.004955  0.003853   ext   \n",
              "\n",
              "    number  numf  repeat  \n",
              "9       30   210       5  \n",
              "10      30   330       5  \n",
              "11      30   330       5  \n",
              "12      30   495       5  \n",
              "13      30   495       5  "
            ]
          },
          "execution_count": 16,
          "metadata": {},
          "output_type": "execute_result"
        }
      ],
      "source": [
        "res = []\n",
        "for n in [2, 3, 4, 5, 6, 7, 8]:\n",
        "    X = numpy.random.random((1000, 4))\n",
        "    poly = PolynomialFeatures(degree=n)\n",
        "    ext = ExtendedFeatures(poly_degree=n)\n",
        "    poly.fit(X)\n",
        "    ext.fit(X)\n",
        "    r1 = measure_time(\"poly.transform(X)\", context=dict(X=X, poly=poly), repeat=5, number=30, div_by_number=True)\n",
        "    r2 = measure_time(\"ext.transform(X)\", context=dict(X=X, ext=ext), repeat=5, number=30, div_by_number=True)\n",
        "    r1[\"name\"] = \"poly\"\n",
        "    r2[\"name\"] = \"ext\"\n",
        "    r1[\"degree\"] = n\n",
        "    r2[\"degree\"] = n\n",
        "    x1 = poly.transform(X)\n",
        "    x2 = ext.transform(X)\n",
        "    r1[\"numf\"] = x1.shape[1]\n",
        "    r2[\"numf\"] = x2.shape[1]\n",
        "    res.append(r1)\n",
        "    res.append(r2)\n",
        "    \n",
        "import pandas\n",
        "df = pandas.DataFrame(res)\n",
        "df.tail()"
      ]
    },
    {
      "cell_type": "code",
      "execution_count": 16,
      "metadata": {},
      "outputs": [
        {
          "data": {
            "text/html": [
              "<div>\n",
              "<style scoped>\n",
              "    .dataframe tbody tr th:only-of-type {\n",
              "        vertical-align: middle;\n",
              "    }\n",
              "\n",
              "    .dataframe tbody tr th {\n",
              "        vertical-align: top;\n",
              "    }\n",
              "\n",
              "    .dataframe thead th {\n",
              "        text-align: right;\n",
              "    }\n",
              "</style>\n",
              "<table border=\"1\" class=\"dataframe\">\n",
              "  <thead>\n",
              "    <tr style=\"text-align: right;\">\n",
              "      <th>name</th>\n",
              "      <th>ext</th>\n",
              "      <th>poly</th>\n",
              "    </tr>\n",
              "    <tr>\n",
              "      <th>degree</th>\n",
              "      <th></th>\n",
              "      <th></th>\n",
              "    </tr>\n",
              "  </thead>\n",
              "  <tbody>\n",
              "    <tr>\n",
              "      <th>2</th>\n",
              "      <td>0.000113</td>\n",
              "      <td>0.000348</td>\n",
              "    </tr>\n",
              "    <tr>\n",
              "      <th>3</th>\n",
              "      <td>0.000236</td>\n",
              "      <td>0.000557</td>\n",
              "    </tr>\n",
              "    <tr>\n",
              "      <th>4</th>\n",
              "      <td>0.000399</td>\n",
              "      <td>0.001077</td>\n",
              "    </tr>\n",
              "    <tr>\n",
              "      <th>5</th>\n",
              "      <td>0.000587</td>\n",
              "      <td>0.001947</td>\n",
              "    </tr>\n",
              "    <tr>\n",
              "      <th>6</th>\n",
              "      <td>0.001721</td>\n",
              "      <td>0.004333</td>\n",
              "    </tr>\n",
              "  </tbody>\n",
              "</table>\n",
              "</div>"
            ],
            "text/plain": [
              "name         ext      poly\n",
              "degree                    \n",
              "2       0.000113  0.000348\n",
              "3       0.000236  0.000557\n",
              "4       0.000399  0.001077\n",
              "5       0.000587  0.001947\n",
              "6       0.001721  0.004333"
            ]
          },
          "execution_count": 17,
          "metadata": {},
          "output_type": "execute_result"
        }
      ],
      "source": [
        "piv = df.pivot(\"degree\", \"name\", \"average\")\n",
        "piv[:5]"
      ]
    },
    {
      "cell_type": "code",
      "execution_count": 17,
      "metadata": {},
      "outputs": [
        {
          "data": {
            "image/png": "[encoded data removed]",
            "text/plain": [
              "<Figure size 432x288 with 1 Axes>"
            ]
          },
          "metadata": {
            "needs_background": "light"
          },
          "output_type": "display_data"
        }
      ],
      "source": [
        "ax = piv.plot(logy=True, logx=True)\n",
        "ax.set_title(\"Polynomial Features for 1000 observations\\nnumber of features is 4\")\n",
        "ax.set_ylabel(\"seconds\")\n",
        "ax.set_xlabel(\"degree\");"
      ]
    },
    {
      "cell_type": "markdown",
      "metadata": {},
      "source": [
        "It is worth transposing."
      ]
    },
    {
      "cell_type": "markdown",
      "metadata": {},
      "source": [
        "## Same experiment with interaction_only=True"
      ]
    },
    {
      "cell_type": "code",
      "execution_count": 18,
      "metadata": {},
      "outputs": [
        {
          "data": {
            "text/html": [
              "<div>\n",
              "<style scoped>\n",
              "    .dataframe tbody tr th:only-of-type {\n",
              "        vertical-align: middle;\n",
              "    }\n",
              "\n",
              "    .dataframe tbody tr th {\n",
              "        vertical-align: top;\n",
              "    }\n",
              "\n",
              "    .dataframe thead th {\n",
              "        text-align: right;\n",
              "    }\n",
              "</style>\n",
              "<table border=\"1\" class=\"dataframe\">\n",
              "  <thead>\n",
              "    <tr style=\"text-align: right;\">\n",
              "      <th></th>\n",
              "      <th>average</th>\n",
              "      <th>context_size</th>\n",
              "      <th>deviation</th>\n",
              "      <th>max_exec</th>\n",
              "      <th>min_exec</th>\n",
              "      <th>name</th>\n",
              "      <th>number</th>\n",
              "      <th>repeat</th>\n",
              "      <th>size</th>\n",
              "    </tr>\n",
              "  </thead>\n",
              "  <tbody>\n",
              "    <tr>\n",
              "      <th>29</th>\n",
              "      <td>0.010243</td>\n",
              "      <td>240</td>\n",
              "      <td>0.000019</td>\n",
              "      <td>0.010262</td>\n",
              "      <td>0.010223</td>\n",
              "      <td>ext</td>\n",
              "      <td>30</td>\n",
              "      <td>2</td>\n",
              "      <td>50000</td>\n",
              "    </tr>\n",
              "    <tr>\n",
              "      <th>30</th>\n",
              "      <td>0.041786</td>\n",
              "      <td>240</td>\n",
              "      <td>0.000431</td>\n",
              "      <td>0.042217</td>\n",
              "      <td>0.041355</td>\n",
              "      <td>poly</td>\n",
              "      <td>30</td>\n",
              "      <td>2</td>\n",
              "      <td>100000</td>\n",
              "    </tr>\n",
              "    <tr>\n",
              "      <th>31</th>\n",
              "      <td>0.020699</td>\n",
              "      <td>240</td>\n",
              "      <td>0.000602</td>\n",
              "      <td>0.021300</td>\n",
              "      <td>0.020097</td>\n",
              "      <td>ext</td>\n",
              "      <td>30</td>\n",
              "      <td>2</td>\n",
              "      <td>100000</td>\n",
              "    </tr>\n",
              "    <tr>\n",
              "      <th>32</th>\n",
              "      <td>0.104215</td>\n",
              "      <td>240</td>\n",
              "      <td>0.001351</td>\n",
              "      <td>0.105566</td>\n",
              "      <td>0.102865</td>\n",
              "      <td>poly</td>\n",
              "      <td>30</td>\n",
              "      <td>2</td>\n",
              "      <td>200000</td>\n",
              "    </tr>\n",
              "    <tr>\n",
              "      <th>33</th>\n",
              "      <td>0.040607</td>\n",
              "      <td>240</td>\n",
              "      <td>0.000268</td>\n",
              "      <td>0.040875</td>\n",
              "      <td>0.040339</td>\n",
              "      <td>ext</td>\n",
              "      <td>30</td>\n",
              "      <td>2</td>\n",
              "      <td>200000</td>\n",
              "    </tr>\n",
              "  </tbody>\n",
              "</table>\n",
              "</div>"
            ],
            "text/plain": [
              "     average  context_size  deviation  max_exec  min_exec  name  number  \\\n",
              "29  0.010243           240   0.000019  0.010262  0.010223   ext      30   \n",
              "30  0.041786           240   0.000431  0.042217  0.041355  poly      30   \n",
              "31  0.020699           240   0.000602  0.021300  0.020097   ext      30   \n",
              "32  0.104215           240   0.001351  0.105566  0.102865  poly      30   \n",
              "33  0.040607           240   0.000268  0.040875  0.040339   ext      30   \n",
              "\n",
              "    repeat    size  \n",
              "29       2   50000  \n",
              "30       2  100000  \n",
              "31       2  100000  \n",
              "32       2  200000  \n",
              "33       2  200000  "
            ]
          },
          "execution_count": 19,
          "metadata": {},
          "output_type": "execute_result"
        }
      ],
      "source": [
        "res = []\n",
        "for n in [1, 2, 5, 10, 20, 50, 100, 200, 500, 1000, 2000, \n",
        "          5000, 10000, 20000, 50000, 100000, 200000]:\n",
        "    poly = PolynomialFeatures(degree=2, interaction_only=True)\n",
        "    ext = ExtendedFeatures(poly_degree=2, poly_interaction_only=True)\n",
        "    X = numpy.random.random((n, 5))\n",
        "    poly.fit(X)\n",
        "    ext.fit(X)\n",
        "    r1 = measure_time(\"poly.transform(X)\", context=dict(X=X, poly=poly), repeat=2, number=30, div_by_number=True)\n",
        "    r2 = measure_time(\"ext.transform(X)\", context=dict(X=X, ext=ext), repeat=2, number=30, div_by_number=True)\n",
        "    r1[\"name\"] = \"poly\"\n",
        "    r2[\"name\"] = \"ext\"\n",
        "    r1[\"size\"] = n\n",
        "    r2[\"size\"] = n\n",
        "    res.append(r1)\n",
        "    res.append(r2)\n",
        "    \n",
        "import pandas\n",
        "df = pandas.DataFrame(res)\n",
        "df.tail()"
      ]
    },
    {
      "cell_type": "code",
      "execution_count": 19,
      "metadata": {},
      "outputs": [
        {
          "data": {
            "text/html": [
              "<div>\n",
              "<style scoped>\n",
              "    .dataframe tbody tr th:only-of-type {\n",
              "        vertical-align: middle;\n",
              "    }\n",
              "\n",
              "    .dataframe tbody tr th {\n",
              "        vertical-align: top;\n",
              "    }\n",
              "\n",
              "    .dataframe thead th {\n",
              "        text-align: right;\n",
              "    }\n",
              "</style>\n",
              "<table border=\"1\" class=\"dataframe\">\n",
              "  <thead>\n",
              "    <tr style=\"text-align: right;\">\n",
              "      <th>name</th>\n",
              "      <th>ext</th>\n",
              "      <th>poly</th>\n",
              "    </tr>\n",
              "    <tr>\n",
              "      <th>size</th>\n",
              "      <th></th>\n",
              "      <th></th>\n",
              "    </tr>\n",
              "  </thead>\n",
              "  <tbody>\n",
              "    <tr>\n",
              "      <th>1</th>\n",
              "      <td>0.000027</td>\n",
              "      <td>0.000296</td>\n",
              "    </tr>\n",
              "    <tr>\n",
              "      <th>2</th>\n",
              "      <td>0.000029</td>\n",
              "      <td>0.000223</td>\n",
              "    </tr>\n",
              "    <tr>\n",
              "      <th>5</th>\n",
              "      <td>0.000028</td>\n",
              "      <td>0.000197</td>\n",
              "    </tr>\n",
              "    <tr>\n",
              "      <th>10</th>\n",
              "      <td>0.000029</td>\n",
              "      <td>0.000170</td>\n",
              "    </tr>\n",
              "    <tr>\n",
              "      <th>20</th>\n",
              "      <td>0.000030</td>\n",
              "      <td>0.000169</td>\n",
              "    </tr>\n",
              "  </tbody>\n",
              "</table>\n",
              "</div>"
            ],
            "text/plain": [
              "name       ext      poly\n",
              "size                    \n",
              "1     0.000027  0.000296\n",
              "2     0.000029  0.000223\n",
              "5     0.000028  0.000197\n",
              "10    0.000029  0.000170\n",
              "20    0.000030  0.000169"
            ]
          },
          "execution_count": 20,
          "metadata": {},
          "output_type": "execute_result"
        }
      ],
      "source": [
        "piv = df.pivot(\"size\", \"name\", \"average\")\n",
        "piv[:5]"
      ]
    },
    {
      "cell_type": "code",
      "execution_count": 20,
      "metadata": {},
      "outputs": [
        {
          "data": {
            "image/png": "[encoded data removed]",
            "text/plain": [
              "<Figure size 432x288 with 1 Axes>"
            ]
          },
          "metadata": {
            "needs_background": "light"
          },
          "output_type": "display_data"
        }
      ],
      "source": [
        "ax = piv.plot(logy=True, logx=True)\n",
        "ax.set_title(\"Polynomial Features for 5 features\\ndegree is 2 + interaction_only=True\")\n",
        "ax.set_ylabel(\"seconds\")\n",
        "ax.set_xlabel(\"N obs\");"
      ]
    },
    {
      "cell_type": "markdown",
      "metadata": {},
      "source": [
        "## Memory profiler"
      ]
    },
    {
      "cell_type": "code",
      "execution_count": 21,
      "metadata": {},
      "outputs": [
        {
          "data": {
            "text/plain": [
              "[284.3046875]"
            ]
          },
          "execution_count": 22,
          "metadata": {},
          "output_type": "execute_result"
        }
      ],
      "source": [
        "from memory_profiler import memory_usage\n",
        "poly = PolynomialFeatures(degree=2, interaction_only=True)\n",
        "poly.fit(X)\n",
        "memory_usage((poly.transform, (X,)), interval=0.1, max_usage=True)"
      ]
    },
    {
      "cell_type": "code",
      "execution_count": 22,
      "metadata": {},
      "outputs": [
        {
          "name": "stdout",
          "output_type": "stream",
          "text": [
            "10000\n",
            "50000\n",
            "100000\n",
            "200000\n"
          ]
        },
        {
          "data": {
            "text/html": [
              "<div>\n",
              "<style scoped>\n",
              "    .dataframe tbody tr th:only-of-type {\n",
              "        vertical-align: middle;\n",
              "    }\n",
              "\n",
              "    .dataframe tbody tr th {\n",
              "        vertical-align: top;\n",
              "    }\n",
              "\n",
              "    .dataframe thead th {\n",
              "        text-align: right;\n",
              "    }\n",
              "</style>\n",
              "<table border=\"1\" class=\"dataframe\">\n",
              "  <thead>\n",
              "    <tr style=\"text-align: right;\">\n",
              "      <th></th>\n",
              "      <th>memory</th>\n",
              "      <th>name</th>\n",
              "      <th>size</th>\n",
              "    </tr>\n",
              "  </thead>\n",
              "  <tbody>\n",
              "    <tr>\n",
              "      <th>3</th>\n",
              "      <td>724.828125</td>\n",
              "      <td>ext</td>\n",
              "      <td>50000</td>\n",
              "    </tr>\n",
              "    <tr>\n",
              "      <th>4</th>\n",
              "      <td>1270.167969</td>\n",
              "      <td>poly</td>\n",
              "      <td>100000</td>\n",
              "    </tr>\n",
              "    <tr>\n",
              "      <th>5</th>\n",
              "      <td>1231.347656</td>\n",
              "      <td>ext</td>\n",
              "      <td>100000</td>\n",
              "    </tr>\n",
              "    <tr>\n",
              "      <th>6</th>\n",
              "      <td>2323.894531</td>\n",
              "      <td>poly</td>\n",
              "      <td>200000</td>\n",
              "    </tr>\n",
              "    <tr>\n",
              "      <th>7</th>\n",
              "      <td>2243.015625</td>\n",
              "      <td>ext</td>\n",
              "      <td>200000</td>\n",
              "    </tr>\n",
              "  </tbody>\n",
              "</table>\n",
              "</div>"
            ],
            "text/plain": [
              "        memory  name    size\n",
              "3   724.828125   ext   50000\n",
              "4  1270.167969  poly  100000\n",
              "5  1231.347656   ext  100000\n",
              "6  2323.894531  poly  200000\n",
              "7  2243.015625   ext  200000"
            ]
          },
          "execution_count": 23,
          "metadata": {},
          "output_type": "execute_result"
        }
      ],
      "source": [
        "res = []\n",
        "for n in [10000, 50000, 100000, 200000]:\n",
        "    X = numpy.random.random((n, 50))\n",
        "    print(n)\n",
        "    poly = PolynomialFeatures(degree=2, interaction_only=True)\n",
        "    ext = ExtendedFeatures(poly_degree=2, poly_interaction_only=True)\n",
        "    poly.fit(X)\n",
        "    ext.fit(X)\n",
        "    r1 = memory_usage((poly.transform, (X,)), interval=0.1, max_usage=True)\n",
        "    r2 = memory_usage((ext.transform, (X,)), interval=0.1, max_usage=True)\n",
        "    r1 = {\"memory\": r1[0]}\n",
        "    r2 = {\"memory\": r2[0]}\n",
        "    r1[\"name\"] = \"poly\"\n",
        "    r2[\"name\"] = \"ext\"\n",
        "    r1[\"size\"] = n\n",
        "    r2[\"size\"] = n\n",
        "    res.append(r1)\n",
        "    res.append(r2)\n",
        "    \n",
        "import pandas\n",
        "df = pandas.DataFrame(res)\n",
        "df.tail()"
      ]
    },
    {
      "cell_type": "code",
      "execution_count": 23,
      "metadata": {},
      "outputs": [
        {
          "data": {
            "text/html": [
              "<div>\n",
              "<style scoped>\n",
              "    .dataframe tbody tr th:only-of-type {\n",
              "        vertical-align: middle;\n",
              "    }\n",
              "\n",
              "    .dataframe tbody tr th {\n",
              "        vertical-align: top;\n",
              "    }\n",
              "\n",
              "    .dataframe thead th {\n",
              "        text-align: right;\n",
              "    }\n",
              "</style>\n",
              "<table border=\"1\" class=\"dataframe\">\n",
              "  <thead>\n",
              "    <tr style=\"text-align: right;\">\n",
              "      <th>name</th>\n",
              "      <th>ext</th>\n",
              "      <th>poly</th>\n",
              "    </tr>\n",
              "    <tr>\n",
              "      <th>size</th>\n",
              "      <th></th>\n",
              "      <th></th>\n",
              "    </tr>\n",
              "  </thead>\n",
              "  <tbody>\n",
              "    <tr>\n",
              "      <th>10000</th>\n",
              "      <td>416.367188</td>\n",
              "      <td>420.183594</td>\n",
              "    </tr>\n",
              "    <tr>\n",
              "      <th>50000</th>\n",
              "      <td>724.828125</td>\n",
              "      <td>743.902344</td>\n",
              "    </tr>\n",
              "    <tr>\n",
              "      <th>100000</th>\n",
              "      <td>1231.347656</td>\n",
              "      <td>1270.167969</td>\n",
              "    </tr>\n",
              "    <tr>\n",
              "      <th>200000</th>\n",
              "      <td>2243.015625</td>\n",
              "      <td>2323.894531</td>\n",
              "    </tr>\n",
              "  </tbody>\n",
              "</table>\n",
              "</div>"
            ],
            "text/plain": [
              "name            ext         poly\n",
              "size                            \n",
              "10000    416.367188   420.183594\n",
              "50000    724.828125   743.902344\n",
              "100000  1231.347656  1270.167969\n",
              "200000  2243.015625  2323.894531"
            ]
          },
          "execution_count": 24,
          "metadata": {},
          "output_type": "execute_result"
        }
      ],
      "source": [
        "piv = df.pivot(\"size\", \"name\", \"memory\")\n",
        "piv[:5]"
      ]
    },
    {
      "cell_type": "code",
      "execution_count": 24,
      "metadata": {},
      "outputs": [
        {
          "data": {
            "image/png": "[encoded data removed]",
            "text/plain": [
              "<Figure size 432x288 with 1 Axes>"
            ]
          },
          "metadata": {
            "needs_background": "light"
          },
          "output_type": "display_data"
        }
      ],
      "source": [
        "ax = piv.plot(logy=True, logx=True)\n",
        "ax.set_title(\"Polynomial Features for 50 features\\ndegree is 2 - memory\")\n",
        "ax.set_ylabel(\"Mb\")\n",
        "ax.set_xlabel(\"N obs\");"
      ]
    },
    {
      "cell_type": "code",
      "execution_count": 25,
      "metadata": {},
      "outputs": [],
      "source": []
    },
    {
      "cell_type": "code",
      "execution_count": 26,
      "metadata": {},
      "outputs": [],
      "source": []
    }
  ],
  "metadata": {
    "kernelspec": {
      "display_name": "Python 3",
      "language": "python",
      "name": "python3"
    },
    "language_info": {
      "codemirror_mode": {
        "name": "ipython",
        "version": 3
      },
      "file_extension": ".py",
      "mimetype": "text/x-python",
      "name": "python",
      "nbconvert_exporter": "python",
      "pygments_lexer": "ipython3",
      "version": "3.7.2"
    }
  },
  "nbformat": 4,
  "nbformat_minor": 2
}