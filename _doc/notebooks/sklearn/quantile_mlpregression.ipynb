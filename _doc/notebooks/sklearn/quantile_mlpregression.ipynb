{
  "cells": [
    {
      "cell_type": "markdown",
      "metadata": {},
      "source": [
        "# Quantile MLPRegressor\n",
        "\n",
        "[scikit-learn](http://scikit-learn.org/stable/) does not have a quantile regression for multi-layer perceptron. [mlinsights](http://www.xavierdupre.fr/app/mlinsights/helpsphinx/index.html) implements a version of it based on the *scikit-learn* model. The implementation overwrites method ``_backprop``."
      ]
    },
    {
      "cell_type": "code",
      "execution_count": 1,
      "metadata": {},
      "outputs": [],
      "source": [
        "%matplotlib inline"
      ]
    },
    {
      "cell_type": "markdown",
      "metadata": {},
      "source": [
        "We generate some dummy data."
      ]
    },
    {
      "cell_type": "code",
      "execution_count": 2,
      "metadata": {},
      "outputs": [],
      "source": [
        "import numpy\n",
        "X = numpy.random.random(1000)\n",
        "eps1 = (numpy.random.random(900) - 0.5) * 0.1\n",
        "eps2 = (numpy.random.random(100)) * 10\n",
        "eps = numpy.hstack([eps1, eps2])\n",
        "X = X.reshape((1000, 1))\n",
        "Y = X.ravel() * 3.4 + 5.6 + eps"
      ]
    },
    {
      "cell_type": "code",
      "execution_count": 3,
      "metadata": {},
      "outputs": [
        {
          "data": {
            "text/plain": [
              "MLPRegressor(activation='tanh', alpha=0.0001, batch_size='auto', beta_1=0.9,\n",
              "       beta_2=0.999, early_stopping=False, epsilon=1e-08,\n",
              "       hidden_layer_sizes=(30,), learning_rate='constant',\n",
              "       learning_rate_init=0.001, max_iter=200, momentum=0.9,\n",
              "       n_iter_no_change=10, nesterovs_momentum=True, power_t=0.5,\n",
              "       random_state=None, shuffle=True, solver='adam', tol=0.0001,\n",
              "       validation_fraction=0.1, verbose=False, warm_start=False)"
            ]
          },
          "execution_count": 4,
          "metadata": {},
          "output_type": "execute_result"
        }
      ],
      "source": [
        "from sklearn.neural_network import MLPRegressor\n",
        "clr = MLPRegressor(hidden_layer_sizes=(30,), activation='tanh')\n",
        "clr.fit(X, Y)"
      ]
    },
    {
      "cell_type": "code",
      "execution_count": 4,
      "metadata": {},
      "outputs": [
        {
          "data": {
            "text/plain": [
              "QuantileMLPRegressor(activation='tanh', alpha=0.0001, batch_size='auto',\n",
              "           beta_1=0.9, beta_2=0.999, early_stopping=False, epsilon=1e-08,\n",
              "           hidden_layer_sizes=(30,), learning_rate='constant',\n",
              "           learning_rate_init=0.001, max_iter=200, momentum=0.9,\n",
              "           n_iter_no_change=10, nesterovs_momentum=True, power_t=0.5,\n",
              "           random_state=None, shuffle=True, solver='adam', tol=0.0001,\n",
              "           validation_fraction=0.1, verbose=False, warm_start=False)"
            ]
          },
          "execution_count": 5,
          "metadata": {},
          "output_type": "execute_result"
        }
      ],
      "source": [
        "from mlinsights.mlmodel import QuantileMLPRegressor\n",
        "clq = QuantileMLPRegressor(hidden_layer_sizes=(30,), activation='tanh')\n",
        "clq.fit(X, Y)"
      ]
    },
    {
      "cell_type": "code",
      "execution_count": 5,
      "metadata": {},
      "outputs": [
        {
          "data": {
            "text/html": [
              "<div>\n",
              "<style scoped>\n",
              "    .dataframe tbody tr th:only-of-type {\n",
              "        vertical-align: middle;\n",
              "    }\n",
              "\n",
              "    .dataframe tbody tr th {\n",
              "        vertical-align: top;\n",
              "    }\n",
              "\n",
              "    .dataframe thead th {\n",
              "        text-align: right;\n",
              "    }\n",
              "</style>\n",
              "<table border=\"1\" class=\"dataframe\">\n",
              "  <thead>\n",
              "    <tr style=\"text-align: right;\">\n",
              "      <th></th>\n",
              "      <th>X</th>\n",
              "      <th>Y</th>\n",
              "      <th>clr</th>\n",
              "      <th>clq</th>\n",
              "    </tr>\n",
              "  </thead>\n",
              "  <tbody>\n",
              "    <tr>\n",
              "      <th>0</th>\n",
              "      <td>0.720940</td>\n",
              "      <td>8.026140</td>\n",
              "      <td>8.590080</td>\n",
              "      <td>8.069931</td>\n",
              "    </tr>\n",
              "    <tr>\n",
              "      <th>1</th>\n",
              "      <td>0.406133</td>\n",
              "      <td>6.937675</td>\n",
              "      <td>7.599968</td>\n",
              "      <td>7.051029</td>\n",
              "    </tr>\n",
              "    <tr>\n",
              "      <th>2</th>\n",
              "      <td>0.088842</td>\n",
              "      <td>5.868685</td>\n",
              "      <td>6.428689</td>\n",
              "      <td>5.843513</td>\n",
              "    </tr>\n",
              "    <tr>\n",
              "      <th>3</th>\n",
              "      <td>0.962570</td>\n",
              "      <td>8.914009</td>\n",
              "      <td>9.236383</td>\n",
              "      <td>8.731924</td>\n",
              "    </tr>\n",
              "    <tr>\n",
              "      <th>4</th>\n",
              "      <td>0.904481</td>\n",
              "      <td>8.693848</td>\n",
              "      <td>9.089638</td>\n",
              "      <td>8.581862</td>\n",
              "    </tr>\n",
              "  </tbody>\n",
              "</table>\n",
              "</div>"
            ],
            "text/plain": [
              "          X         Y       clr       clq\n",
              "0  0.720940  8.026140  8.590080  8.069931\n",
              "1  0.406133  6.937675  7.599968  7.051029\n",
              "2  0.088842  5.868685  6.428689  5.843513\n",
              "3  0.962570  8.914009  9.236383  8.731924\n",
              "4  0.904481  8.693848  9.089638  8.581862"
            ]
          },
          "execution_count": 6,
          "metadata": {},
          "output_type": "execute_result"
        }
      ],
      "source": [
        "from pandas import DataFrame\n",
        "data= dict(X=X.ravel(), Y=Y, clr=clr.predict(X), clq=clq.predict(X))\n",
        "df = DataFrame(data)\n",
        "df.head()"
      ]
    },
    {
      "cell_type": "code",
      "execution_count": 6,
      "metadata": {},
      "outputs": [
        {
          "data": {
            "image/png": "[encoded data removed]",
            "text/plain": [
              "<Figure size 720x288 with 1 Axes>"
            ]
          },
          "metadata": {},
          "output_type": "display_data"
        }
      ],
      "source": [
        "import matplotlib.pyplot as plt\n",
        "fig, ax = plt.subplots(1, 1, figsize=(10, 4))\n",
        "choice = numpy.random.choice(X.shape[0]-1, size=100)\n",
        "xx = X.ravel()[choice]\n",
        "yy = Y[choice]\n",
        "ax.plot(xx, yy, '.', label=\"data\")\n",
        "xx = numpy.array([[0], [1]])\n",
        "y1 = clr.predict(xx)\n",
        "y2 = clq.predict(xx)\n",
        "ax.plot(xx, y1, \"--\", label=\"L2\")\n",
        "ax.plot(xx, y2, \"--\", label=\"L1\")\n",
        "ax.set_title(\"Quantile (L1) vs Square (L2) for MLPRegressor\")\n",
        "ax.legend();"
      ]
    }
  ],
  "metadata": {
    "kernelspec": {
      "display_name": "Python 3",
      "language": "python",
      "name": "python3"
    },
    "language_info": {
      "codemirror_mode": {
        "name": "ipython",
        "version": 3
      },
      "file_extension": ".py",
      "mimetype": "text/x-python",
      "name": "python",
      "nbconvert_exporter": "python",
      "pygments_lexer": "ipython3",
      "version": "3.7.0"
    }
  },
  "nbformat": 4,
  "nbformat_minor": 2
}