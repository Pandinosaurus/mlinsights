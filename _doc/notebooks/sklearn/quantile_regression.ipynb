{
  "cells": [
    {
      "cell_type": "markdown",
      "metadata": {},
      "source": [
        "# Quantile Regression\n",
        "\n",
        "[scikit-learn](http://scikit-learn.org/stable/) does not have a quantile regression. [mlinsights](http://www.xavierdupre.fr/app/mlinsights/helpsphinx/index.html) implements a version of it."
      ]
    },
    {
      "cell_type": "code",
      "execution_count": 1,
      "metadata": {},
      "outputs": [
        {
          "data": {
            "text/html": [
              "<div id=\"my_id_menu_nb\">run previous cell, wait for 2 seconds</div>\n",
              "<script>\n",
              "function repeat_indent_string(n){\n",
              "    var a = \"\" ;\n",
              "    for ( ; n > 0 ; --n)\n",
              "        a += \"    \";\n",
              "    return a;\n",
              "}\n",
              "// look up into all sections and builds an automated menu //\n",
              "var update_menu_string = function(begin, lfirst, llast, sformat, send, keep_item, begin_format, end_format) {\n",
              "    var anchors = document.getElementsByClassName(\"section\");\n",
              "    if (anchors.length == 0) {\n",
              "        anchors = document.getElementsByClassName(\"text_cell_render rendered_html\");\n",
              "    }\n",
              "    var i,t;\n",
              "    var text_menu = begin;\n",
              "    var text_memo = \"<pre>\\nlength:\" + anchors.length + \"\\n\";\n",
              "    var ind = \"\";\n",
              "    var memo_level = 1;\n",
              "    var href;\n",
              "    var tags = [];\n",
              "    var main_item = 0;\n",
              "    var format_open = 0;\n",
              "    for (i = 0; i <= llast; i++)\n",
              "        tags.push(\"h\" + i);\n",
              "\n",
              "    for (i = 0; i < anchors.length; i++) {\n",
              "        text_memo += \"**\" + anchors[i].id + \"--\\n\";\n",
              "\n",
              "        var child = null;\n",
              "        for(t = 0; t < tags.length; t++) {\n",
              "            var r = anchors[i].getElementsByTagName(tags[t]);\n",
              "            if (r.length > 0) {\n",
              "child = r[0];\n",
              "break;\n",
              "            }\n",
              "        }\n",
              "        if (child == null) {\n",
              "            text_memo += \"null\\n\";\n",
              "            continue;\n",
              "        }\n",
              "        if (anchors[i].hasAttribute(\"id\")) {\n",
              "            // when converted in RST\n",
              "            href = anchors[i].id;\n",
              "            text_memo += \"#1-\" + href;\n",
              "            // passer \u00e0 child suivant (le chercher)\n",
              "        }\n",
              "        else if (child.hasAttribute(\"id\")) {\n",
              "            // in a notebook\n",
              "            href = child.id;\n",
              "            text_memo += \"#2-\" + href;\n",
              "        }\n",
              "        else {\n",
              "            text_memo += \"#3-\" + \"*\" + \"\\n\";\n",
              "            continue;\n",
              "        }\n",
              "        var title = child.textContent;\n",
              "        var level = parseInt(child.tagName.substring(1,2));\n",
              "\n",
              "        text_memo += \"--\" + level + \"?\" + lfirst + \"--\" + title + \"\\n\";\n",
              "\n",
              "        if ((level < lfirst) || (level > llast)) {\n",
              "            continue ;\n",
              "        }\n",
              "        if (title.endsWith('\u00b6')) {\n",
              "            title = title.substring(0,title.length-1).replace(\"<\", \"&lt;\")\n",
              "         .replace(\">\", \"&gt;\").replace(\"&\", \"&amp;\");\n",
              "        }\n",
              "        if (title.length == 0) {\n",
              "            continue;\n",
              "        }\n",
              "\n",
              "        while (level < memo_level) {\n",
              "            text_menu += end_format + \"</ul>\\n\";\n",
              "            format_open -= 1;\n",
              "            memo_level -= 1;\n",
              "        }\n",
              "        if (level == lfirst) {\n",
              "            main_item += 1;\n",
              "        }\n",
              "        if (keep_item != -1 && main_item != keep_item + 1) {\n",
              "            // alert(main_item + \" - \" + level + \" - \" + keep_item);\n",
              "            continue;\n",
              "        }\n",
              "        while (level > memo_level) {\n",
              "            text_menu += \"<ul>\\n\";\n",
              "            memo_level += 1;\n",
              "        }\n",
              "        text_menu += repeat_indent_string(level-2);\n",
              "        text_menu += begin_format + sformat.replace(\"__HREF__\", href).replace(\"__TITLE__\", title);\n",
              "        format_open += 1;\n",
              "    }\n",
              "    while (1 < memo_level) {\n",
              "        text_menu += end_format + \"</ul>\\n\";\n",
              "        memo_level -= 1;\n",
              "        format_open -= 1;\n",
              "    }\n",
              "    text_menu += send;\n",
              "    //text_menu += \"\\n\" + text_memo;\n",
              "\n",
              "    while (format_open > 0) {\n",
              "        text_menu += end_format;\n",
              "        format_open -= 1;\n",
              "    }\n",
              "    return text_menu;\n",
              "};\n",
              "var update_menu = function() {\n",
              "    var sbegin = \"\";\n",
              "    var sformat = '<a href=\"#__HREF__\">__TITLE__</a>';\n",
              "    var send = \"\";\n",
              "    var begin_format = '<li>';\n",
              "    var end_format = '</li>';\n",
              "    var keep_item = -1;\n",
              "    var text_menu = update_menu_string(sbegin, 2, 4, sformat, send, keep_item,\n",
              "       begin_format, end_format);\n",
              "    var menu = document.getElementById(\"my_id_menu_nb\");\n",
              "    menu.innerHTML=text_menu;\n",
              "};\n",
              "window.setTimeout(update_menu,2000);\n",
              "            </script>"
            ],
            "text/plain": [
              "<IPython.core.display.HTML object>"
            ]
          },
          "execution_count": 2,
          "metadata": {},
          "output_type": "execute_result"
        }
      ],
      "source": [
        "from jyquickhelper import add_notebook_menu\n",
        "add_notebook_menu()"
      ]
    },
    {
      "cell_type": "code",
      "execution_count": 2,
      "metadata": {},
      "outputs": [],
      "source": [
        "%matplotlib inline"
      ]
    },
    {
      "cell_type": "markdown",
      "metadata": {},
      "source": [
        "## Simple example"
      ]
    },
    {
      "cell_type": "markdown",
      "metadata": {},
      "source": [
        "We generate some dummy data."
      ]
    },
    {
      "cell_type": "code",
      "execution_count": 3,
      "metadata": {},
      "outputs": [],
      "source": [
        "import numpy\n",
        "X = numpy.random.random(1000)\n",
        "eps1 = (numpy.random.random(900) - 0.5) * 0.1\n",
        "eps2 = (numpy.random.random(100)) * 10\n",
        "eps = numpy.hstack([eps1, eps2])\n",
        "X = X.reshape((1000, 1))\n",
        "Y = X.ravel() * 3.4 + 5.6 + eps"
      ]
    },
    {
      "cell_type": "code",
      "execution_count": 4,
      "metadata": {},
      "outputs": [
        {
          "data": {
            "text/plain": [
              "LinearRegression(copy_X=True, fit_intercept=True, n_jobs=1, normalize=False)"
            ]
          },
          "execution_count": 5,
          "metadata": {},
          "output_type": "execute_result"
        }
      ],
      "source": [
        "from sklearn.linear_model import LinearRegression\n",
        "clr = LinearRegression()\n",
        "clr.fit(X, Y)"
      ]
    },
    {
      "cell_type": "code",
      "execution_count": 5,
      "metadata": {},
      "outputs": [
        {
          "data": {
            "text/plain": [
              "QuantileLinearRegression(copy_X=True, delta=0.0001, fit_intercept=True,\n",
              "             max_iter=10, n_jobs=1, normalize=False, quantile=0.5,\n",
              "             verbose=False)"
            ]
          },
          "execution_count": 6,
          "metadata": {},
          "output_type": "execute_result"
        }
      ],
      "source": [
        "from mlinsights.mlmodel import QuantileLinearRegression\n",
        "clq = QuantileLinearRegression()\n",
        "clq.fit(X, Y)"
      ]
    },
    {
      "cell_type": "code",
      "execution_count": 6,
      "metadata": {},
      "outputs": [
        {
          "data": {
            "text/html": [
              "<div>\n",
              "<style scoped>\n",
              "    .dataframe tbody tr th:only-of-type {\n",
              "        vertical-align: middle;\n",
              "    }\n",
              "\n",
              "    .dataframe tbody tr th {\n",
              "        vertical-align: top;\n",
              "    }\n",
              "\n",
              "    .dataframe thead th {\n",
              "        text-align: right;\n",
              "    }\n",
              "</style>\n",
              "<table border=\"1\" class=\"dataframe\">\n",
              "  <thead>\n",
              "    <tr style=\"text-align: right;\">\n",
              "      <th></th>\n",
              "      <th>X</th>\n",
              "      <th>Y</th>\n",
              "      <th>clr</th>\n",
              "      <th>clq</th>\n",
              "    </tr>\n",
              "  </thead>\n",
              "  <tbody>\n",
              "    <tr>\n",
              "      <th>0</th>\n",
              "      <td>0.710310</td>\n",
              "      <td>8.031079</td>\n",
              "      <td>8.515732</td>\n",
              "      <td>8.024375</td>\n",
              "    </tr>\n",
              "    <tr>\n",
              "      <th>1</th>\n",
              "      <td>0.246556</td>\n",
              "      <td>6.409345</td>\n",
              "      <td>6.936975</td>\n",
              "      <td>6.448834</td>\n",
              "    </tr>\n",
              "    <tr>\n",
              "      <th>2</th>\n",
              "      <td>0.851280</td>\n",
              "      <td>8.475841</td>\n",
              "      <td>8.995636</td>\n",
              "      <td>8.503300</td>\n",
              "    </tr>\n",
              "    <tr>\n",
              "      <th>3</th>\n",
              "      <td>0.140727</td>\n",
              "      <td>6.058996</td>\n",
              "      <td>6.576702</td>\n",
              "      <td>6.089295</td>\n",
              "    </tr>\n",
              "    <tr>\n",
              "      <th>4</th>\n",
              "      <td>0.731571</td>\n",
              "      <td>8.070341</td>\n",
              "      <td>8.588110</td>\n",
              "      <td>8.096605</td>\n",
              "    </tr>\n",
              "  </tbody>\n",
              "</table>\n",
              "</div>"
            ],
            "text/plain": [
              "          X         Y       clr       clq\n",
              "0  0.710310  8.031079  8.515732  8.024375\n",
              "1  0.246556  6.409345  6.936975  6.448834\n",
              "2  0.851280  8.475841  8.995636  8.503300\n",
              "3  0.140727  6.058996  6.576702  6.089295\n",
              "4  0.731571  8.070341  8.588110  8.096605"
            ]
          },
          "execution_count": 7,
          "metadata": {},
          "output_type": "execute_result"
        }
      ],
      "source": [
        "from pandas import DataFrame\n",
        "data= dict(X=X.ravel(), Y=Y, clr=clr.predict(X), clq=clq.predict(X))\n",
        "df = DataFrame(data)\n",
        "df.head()"
      ]
    },
    {
      "cell_type": "code",
      "execution_count": 7,
      "metadata": {},
      "outputs": [
        {
          "data": {
            "image/png": "[encoded data removed]",
            "text/plain": [
              "<Figure size 720x288 with 1 Axes>"
            ]
          },
          "metadata": {},
          "output_type": "display_data"
        }
      ],
      "source": [
        "import matplotlib.pyplot as plt\n",
        "fig, ax = plt.subplots(1, 1, figsize=(10, 4))\n",
        "choice = numpy.random.choice(X.shape[0]-1, size=100)\n",
        "xx = X.ravel()[choice]\n",
        "yy = Y[choice]\n",
        "ax.plot(xx, yy, '.', label=\"data\")\n",
        "xx = numpy.array([[0], [1]])\n",
        "y1 = clr.predict(xx)\n",
        "y2 = clq.predict(xx)\n",
        "ax.plot(xx, y1, \"--\", label=\"L2\")\n",
        "ax.plot(xx, y2, \"--\", label=\"L1\")\n",
        "ax.set_title(\"Quantile (L1) vs Square (L2)\");\n",
        "ax.legend();"
      ]
    },
    {
      "cell_type": "markdown",
      "metadata": {},
      "source": [
        "The L1 is clearly less sensible to extremas. The optimization algorithm is based on [Iteratively reweighted least squares](https://en.wikipedia.org/wiki/Iteratively_reweighted_least_squares). It estimates a linear regression with error L2 then reweights each oberservation with the inverse of the error L1."
      ]
    },
    {
      "cell_type": "code",
      "execution_count": 8,
      "metadata": {},
      "outputs": [
        {
          "name": "stdout",
          "output_type": "stream",
          "text": [
            "[QuantileLinearRegression.fit] iter=1 error=901.3803392180542\n",
            "[QuantileLinearRegression.fit] iter=2 error=562.663383515471\n",
            "[QuantileLinearRegression.fit] iter=3 error=522.8970177647805\n",
            "[QuantileLinearRegression.fit] iter=4 error=522.3766707482777\n",
            "[QuantileLinearRegression.fit] iter=5 error=522.0288331540892\n",
            "[QuantileLinearRegression.fit] iter=6 error=521.6797263072117\n",
            "[QuantileLinearRegression.fit] iter=7 error=521.4702236617843\n",
            "[QuantileLinearRegression.fit] iter=8 error=521.3419287524464\n",
            "[QuantileLinearRegression.fit] iter=9 error=521.206723757895\n",
            "[QuantileLinearRegression.fit] iter=10 error=521.1212078810222\n",
            "[QuantileLinearRegression.fit] iter=11 error=521.0410686984816\n",
            "[QuantileLinearRegression.fit] iter=12 error=520.9841924800792\n",
            "[QuantileLinearRegression.fit] iter=13 error=520.9349774362781\n",
            "[QuantileLinearRegression.fit] iter=14 error=520.907415015473\n",
            "[QuantileLinearRegression.fit] iter=15 error=520.8939558844767\n",
            "[QuantileLinearRegression.fit] iter=16 error=520.8845502333198\n",
            "[QuantileLinearRegression.fit] iter=17 error=520.8791552281199\n",
            "[QuantileLinearRegression.fit] iter=18 error=520.874494484882\n",
            "[QuantileLinearRegression.fit] iter=19 error=520.8709629795006\n",
            "[QuantileLinearRegression.fit] iter=20 error=520.8680582590082\n"
          ]
        },
        {
          "data": {
            "text/plain": [
              "QuantileLinearRegression(copy_X=True, delta=0.0001, fit_intercept=True,\n",
              "             max_iter=20, n_jobs=1, normalize=False, quantile=0.5,\n",
              "             verbose=True)"
            ]
          },
          "execution_count": 9,
          "metadata": {},
          "output_type": "execute_result"
        }
      ],
      "source": [
        "clq = QuantileLinearRegression(verbose=True, max_iter=20)\n",
        "clq.fit(X, Y)"
      ]
    },
    {
      "cell_type": "code",
      "execution_count": 9,
      "metadata": {},
      "outputs": [
        {
          "data": {
            "text/plain": [
              "0.5208680582590082"
            ]
          },
          "execution_count": 10,
          "metadata": {},
          "output_type": "execute_result"
        }
      ],
      "source": [
        "clq.score(X,Y)"
      ]
    },
    {
      "cell_type": "markdown",
      "metadata": {},
      "source": [
        "## Regression with various quantiles"
      ]
    },
    {
      "cell_type": "code",
      "execution_count": 10,
      "metadata": {},
      "outputs": [],
      "source": [
        "import numpy\n",
        "X = numpy.random.random(1200)\n",
        "eps1 = (numpy.random.random(900) - 0.5) * 0.5\n",
        "eps2 = (numpy.random.random(300)) * 2\n",
        "eps = numpy.hstack([eps1, eps2])\n",
        "X = X.reshape((1200, 1))\n",
        "Y = X.ravel() * 3.4 + 5.6 + eps + X.ravel() * X.ravel() * 8"
      ]
    },
    {
      "cell_type": "code",
      "execution_count": 11,
      "metadata": {},
      "outputs": [
        {
          "data": {
            "image/png": "[encoded data removed]",
            "text/plain": [
              "<Figure size 720x288 with 1 Axes>"
            ]
          },
          "metadata": {},
          "output_type": "display_data"
        }
      ],
      "source": [
        "fig, ax = plt.subplots(1, 1, figsize=(10, 4))\n",
        "choice = numpy.random.choice(X.shape[0]-1, size=100)\n",
        "xx = X.ravel()[choice]\n",
        "yy = Y[choice]\n",
        "ax.plot(xx, yy, '.', label=\"data\")\n",
        "ax.set_title(\"Almost linear dataset\");"
      ]
    },
    {
      "cell_type": "code",
      "execution_count": 12,
      "metadata": {},
      "outputs": [],
      "source": [
        "clqs = {}\n",
        "for qu in [0.1, 0.25, 0.5, 0.75, 0.9]:\n",
        "    clq = QuantileLinearRegression(quantile=qu)\n",
        "    clq.fit(X, Y)\n",
        "    clqs['q=%1.2f' % qu] = clq"
      ]
    },
    {
      "cell_type": "code",
      "execution_count": 13,
      "metadata": {},
      "outputs": [
        {
          "data": {
            "image/png": "[encoded data removed]",
            "text/plain": [
              "<Figure size 720x288 with 1 Axes>"
            ]
          },
          "metadata": {},
          "output_type": "display_data"
        }
      ],
      "source": [
        "import matplotlib.pyplot as plt\n",
        "fig, ax = plt.subplots(1, 1, figsize=(10, 4))\n",
        "choice = numpy.random.choice(X.shape[0]-1, size=100)\n",
        "xx = X.ravel()[choice]\n",
        "yy = Y[choice]\n",
        "ax.plot(xx, yy, '.', label=\"data\")\n",
        "xx = numpy.array([[0], [1]])\n",
        "for qu in sorted(clqs):\n",
        "    y = clqs[qu].predict(xx)\n",
        "    ax.plot(xx, y, \"--\", label=qu)\n",
        "ax.set_title(\"Various quantiles\");\n",
        "ax.legend();"
      ]
    },
    {
      "cell_type": "code",
      "execution_count": 14,
      "metadata": {},
      "outputs": [],
      "source": []
    }
  ],
  "metadata": {
    "kernelspec": {
      "display_name": "Python 3",
      "language": "python",
      "name": "python3"
    },
    "language_info": {
      "codemirror_mode": {
        "name": "ipython",
        "version": 3
      },
      "file_extension": ".py",
      "mimetype": "text/x-python",
      "name": "python",
      "nbconvert_exporter": "python",
      "pygments_lexer": "ipython3",
      "version": "3.7.0"
    }
  },
  "nbformat": 4,
  "nbformat_minor": 2
}