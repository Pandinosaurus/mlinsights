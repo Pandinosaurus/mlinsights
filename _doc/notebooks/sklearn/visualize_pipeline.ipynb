{
  "cells": [
    {
      "cell_type": "markdown",
      "metadata": {},
      "source": [
        "# Visualize a scikit-learn pipeline\n",
        "\n",
        "Pipeline can be big with *scikit-learn*, let's dig into a visual way to look a them."
      ]
    },
    {
      "cell_type": "code",
      "execution_count": 1,
      "metadata": {},
      "outputs": [
        {
          "data": {
            "text/html": [
              "<div id=\"my_id_menu_nb\">run previous cell, wait for 2 seconds</div>\n",
              "<script>\n",
              "function repeat_indent_string(n){\n",
              "    var a = \"\" ;\n",
              "    for ( ; n > 0 ; --n)\n",
              "        a += \"    \";\n",
              "    return a;\n",
              "}\n",
              "// look up into all sections and builds an automated menu //\n",
              "var update_menu_string = function(begin, lfirst, llast, sformat, send, keep_item, begin_format, end_format) {\n",
              "    var anchors = document.getElementsByClassName(\"section\");\n",
              "    if (anchors.length == 0) {\n",
              "        anchors = document.getElementsByClassName(\"text_cell_render rendered_html\");\n",
              "    }\n",
              "    var i,t;\n",
              "    var text_menu = begin;\n",
              "    var text_memo = \"<pre>\\nlength:\" + anchors.length + \"\\n\";\n",
              "    var ind = \"\";\n",
              "    var memo_level = 1;\n",
              "    var href;\n",
              "    var tags = [];\n",
              "    var main_item = 0;\n",
              "    var format_open = 0;\n",
              "    for (i = 0; i <= llast; i++)\n",
              "        tags.push(\"h\" + i);\n",
              "\n",
              "    for (i = 0; i < anchors.length; i++) {\n",
              "        text_memo += \"**\" + anchors[i].id + \"--\\n\";\n",
              "\n",
              "        var child = null;\n",
              "        for(t = 0; t < tags.length; t++) {\n",
              "            var r = anchors[i].getElementsByTagName(tags[t]);\n",
              "            if (r.length > 0) {\n",
              "child = r[0];\n",
              "break;\n",
              "            }\n",
              "        }\n",
              "        if (child == null) {\n",
              "            text_memo += \"null\\n\";\n",
              "            continue;\n",
              "        }\n",
              "        if (anchors[i].hasAttribute(\"id\")) {\n",
              "            // when converted in RST\n",
              "            href = anchors[i].id;\n",
              "            text_memo += \"#1-\" + href;\n",
              "            // passer \u00e0 child suivant (le chercher)\n",
              "        }\n",
              "        else if (child.hasAttribute(\"id\")) {\n",
              "            // in a notebook\n",
              "            href = child.id;\n",
              "            text_memo += \"#2-\" + href;\n",
              "        }\n",
              "        else {\n",
              "            text_memo += \"#3-\" + \"*\" + \"\\n\";\n",
              "            continue;\n",
              "        }\n",
              "        var title = child.textContent;\n",
              "        var level = parseInt(child.tagName.substring(1,2));\n",
              "\n",
              "        text_memo += \"--\" + level + \"?\" + lfirst + \"--\" + title + \"\\n\";\n",
              "\n",
              "        if ((level < lfirst) || (level > llast)) {\n",
              "            continue ;\n",
              "        }\n",
              "        if (title.endsWith('\u00b6')) {\n",
              "            title = title.substring(0,title.length-1).replace(\"<\", \"&lt;\")\n",
              "         .replace(\">\", \"&gt;\").replace(\"&\", \"&amp;\");\n",
              "        }\n",
              "        if (title.length == 0) {\n",
              "            continue;\n",
              "        }\n",
              "\n",
              "        while (level < memo_level) {\n",
              "            text_menu += end_format + \"</ul>\\n\";\n",
              "            format_open -= 1;\n",
              "            memo_level -= 1;\n",
              "        }\n",
              "        if (level == lfirst) {\n",
              "            main_item += 1;\n",
              "        }\n",
              "        if (keep_item != -1 && main_item != keep_item + 1) {\n",
              "            // alert(main_item + \" - \" + level + \" - \" + keep_item);\n",
              "            continue;\n",
              "        }\n",
              "        while (level > memo_level) {\n",
              "            text_menu += \"<ul>\\n\";\n",
              "            memo_level += 1;\n",
              "        }\n",
              "        text_menu += repeat_indent_string(level-2);\n",
              "        text_menu += begin_format + sformat.replace(\"__HREF__\", href).replace(\"__TITLE__\", title);\n",
              "        format_open += 1;\n",
              "    }\n",
              "    while (1 < memo_level) {\n",
              "        text_menu += end_format + \"</ul>\\n\";\n",
              "        memo_level -= 1;\n",
              "        format_open -= 1;\n",
              "    }\n",
              "    text_menu += send;\n",
              "    //text_menu += \"\\n\" + text_memo;\n",
              "\n",
              "    while (format_open > 0) {\n",
              "        text_menu += end_format;\n",
              "        format_open -= 1;\n",
              "    }\n",
              "    return text_menu;\n",
              "};\n",
              "var update_menu = function() {\n",
              "    var sbegin = \"\";\n",
              "    var sformat = '<a href=\"#__HREF__\">__TITLE__</a>';\n",
              "    var send = \"\";\n",
              "    var begin_format = '<li>';\n",
              "    var end_format = '</li>';\n",
              "    var keep_item = -1;\n",
              "    var text_menu = update_menu_string(sbegin, 2, 4, sformat, send, keep_item,\n",
              "       begin_format, end_format);\n",
              "    var menu = document.getElementById(\"my_id_menu_nb\");\n",
              "    menu.innerHTML=text_menu;\n",
              "};\n",
              "window.setTimeout(update_menu,2000);\n",
              "            </script>"
            ],
            "text/plain": [
              "<IPython.core.display.HTML object>"
            ]
          },
          "execution_count": 2,
          "metadata": {},
          "output_type": "execute_result"
        }
      ],
      "source": [
        "from jyquickhelper import add_notebook_menu\n",
        "add_notebook_menu()"
      ]
    },
    {
      "cell_type": "code",
      "execution_count": 2,
      "metadata": {},
      "outputs": [],
      "source": [
        "%matplotlib inline"
      ]
    },
    {
      "cell_type": "markdown",
      "metadata": {},
      "source": [
        "## Simple model\n",
        "\n",
        "Let's vizualize a simple pipeline, a single model not even trained."
      ]
    },
    {
      "cell_type": "code",
      "execution_count": 3,
      "metadata": {},
      "outputs": [
        {
          "data": {
            "text/plain": [
              "LogisticRegression(C=1.0, class_weight=None, dual=False, fit_intercept=True,\n",
              "          intercept_scaling=1, max_iter=100, multi_class='warn',\n",
              "          n_jobs=None, penalty='l2', random_state=None, solver='warn',\n",
              "          tol=0.0001, verbose=0, warm_start=False)"
            ]
          },
          "execution_count": 4,
          "metadata": {},
          "output_type": "execute_result"
        }
      ],
      "source": [
        "import pandas\n",
        "from sklearn import datasets\n",
        "from sklearn.linear_model import LogisticRegression\n",
        "\n",
        "iris = datasets.load_iris()\n",
        "X = iris.data[:, :4]\n",
        "df = pandas.DataFrame(X)\n",
        "df.columns = [\"X1\", \"X2\", \"X3\", \"X4\"]\n",
        "clf = LogisticRegression()\n",
        "clf"
      ]
    },
    {
      "cell_type": "markdown",
      "metadata": {},
      "source": [
        "The trick consists in converting the pipeline in a graph through the [DOT](https://en.wikipedia.org/wiki/DOT_(graph_description_language)) language."
      ]
    },
    {
      "cell_type": "code",
      "execution_count": 4,
      "metadata": {},
      "outputs": [
        {
          "name": "stdout",
          "output_type": "stream",
          "text": [
            "digraph{\n",
            "  ranksep=0.25;\n",
            "  orientation=portrait;\n",
            "  nodesep=0.05;\n",
            "  sch0[label=\"<f0> X1|<f1> X2|<f2> X3|<f3> X4\",shape=record,fontsize=8];\n",
            "\n",
            "  node1[label=\"union\",shape=box,style=\"filled,rounded\",color=cyan,fontsize=12];\n",
            "  sch0:f0 -> node1;\n",
            "  sch0:f1 -> node1;\n",
            "  sch0:f2 -> node1;\n",
            "  sch0:f3 -> node1;\n",
            "  sch1[label=\"<f0> -v-0\",shape=record,fontsize=8];\n",
            "  node1 -> sch1:f0;\n",
            "\n",
            "  node2[label=\"LogisticRegression\",shape=box,style=\"filled,rounded\",color=yellow,fontsize=12];\n",
            "  sch1:f0 -> node2;\n",
            "  sch2[label=\"<f0> PredictedLabel|<f1> Probabilities\",shape=record,fontsize=8];\n",
            "  node2 -> sch2:f0;\n",
            "  node2 -> sch2:f1;\n",
            "}\n"
          ]
        }
      ],
      "source": [
        "from mlinsights.plotting import pipeline2dot\n",
        "dot = pipeline2dot(clf, df)\n",
        "print(dot)"
      ]
    },
    {
      "cell_type": "markdown",
      "metadata": {},
      "source": [
        "It is lot better with an image."
      ]
    },
    {
      "cell_type": "code",
      "execution_count": 5,
      "metadata": {},
      "outputs": [],
      "source": [
        "dot_file = \"graph.dot\"\n",
        "with open(dot_file, \"w\", encoding=\"utf-8\") as f:\n",
        "    f.write(dot)"
      ]
    },
    {
      "cell_type": "code",
      "execution_count": 6,
      "metadata": {},
      "outputs": [],
      "source": [
        "# might be needed on windows\n",
        "import sys\n",
        "import os\n",
        "if sys.platform.startswith(\"win\") and \"Graphviz\" not in os.environ[\"PATH\"]:\n",
        "    os.environ['PATH'] = os.environ['PATH'] + r';C:\\Program Files (x86)\\Graphviz2.38\\bin'"
      ]
    },
    {
      "cell_type": "code",
      "execution_count": 7,
      "metadata": {},
      "outputs": [
        {
          "name": "stdout",
          "output_type": "stream",
          "text": [
            "[run_cmd] execute dot -G=300 -Tpng graph.dot -ograph.dot.png\n",
            "end of execution dot -G=300 -Tpng graph.dot -ograph.dot.png\n"
          ]
        }
      ],
      "source": [
        "from pyquickhelper.loghelper import run_cmd\n",
        "cmd = \"dot -G=300 -Tpng {0} -o{0}.png\".format(dot_file)\n",
        "run_cmd(cmd, wait=True, fLOG=print);"
      ]
    },
    {
      "cell_type": "code",
      "execution_count": 8,
      "metadata": {},
      "outputs": [
        {
          "data": {
            "image/png": "[encoded data removed]",
            "text/plain": [
              "<PIL.PngImagePlugin.PngImageFile image mode=RGBA size=180x351 at 0x289F484B358>"
            ]
          },
          "execution_count": 9,
          "metadata": {},
          "output_type": "execute_result"
        }
      ],
      "source": [
        "from PIL import Image\n",
        "img = Image.open(\"graph.dot.png\")\n",
        "img"
      ]
    },
    {
      "cell_type": "markdown",
      "metadata": {},
      "source": [
        "## Complex pipeline\n",
        "\n",
        "*scikit-learn* instroduced a couple of transform to play with features in a single pipeline. The following example is taken from [Column Transformer with Mixed Types](https://scikit-learn.org/stable/auto_examples/compose/plot_column_transformer_mixed_types.html#sphx-glr-auto-examples-compose-plot-column-transformer-mixed-types-py)."
      ]
    },
    {
      "cell_type": "code",
      "execution_count": 9,
      "metadata": {},
      "outputs": [],
      "source": [
        "from sklearn import datasets\n",
        "from sklearn.linear_model import LogisticRegression, LinearRegression\n",
        "from sklearn.preprocessing import StandardScaler\n",
        "from sklearn.compose import ColumnTransformer\n",
        "from sklearn.pipeline import Pipeline\n",
        "from sklearn.impute import SimpleImputer\n",
        "from sklearn.preprocessing import StandardScaler, OneHotEncoder\n",
        "from sklearn.linear_model import LogisticRegression"
      ]
    },
    {
      "cell_type": "code",
      "execution_count": 10,
      "metadata": {},
      "outputs": [
        {
          "data": {
            "text/plain": [
              "Pipeline(memory=None,\n",
              "     steps=[('preprocessor', ColumnTransformer(n_jobs=None, remainder='drop', sparse_threshold=0.3,\n",
              "         transformer_weights=None,\n",
              "         transformers=[('num', Pipeline(memory=None,\n",
              "     steps=[('imputer', SimpleImputer(copy=True, fill_value=None, missing_values=nan,\n",
              "       strategy='median', verbo...enalty='l2', random_state=None, solver='lbfgs',\n",
              "          tol=0.0001, verbose=0, warm_start=False))])"
            ]
          },
          "execution_count": 11,
          "metadata": {},
          "output_type": "execute_result"
        }
      ],
      "source": [
        "columns = ['pclass', 'name', 'sex', 'age', 'sibsp', 'parch', 'ticket', 'fare',\n",
        "           'cabin', 'embarked', 'boat', 'body', 'home.dest']\n",
        "\n",
        "numeric_features = ['age', 'fare']\n",
        "numeric_transformer = Pipeline(steps=[\n",
        "    ('imputer', SimpleImputer(strategy='median')),\n",
        "    ('scaler', StandardScaler())])\n",
        "\n",
        "categorical_features = ['embarked', 'sex', 'pclass']\n",
        "categorical_transformer = Pipeline(steps=[\n",
        "    ('imputer', SimpleImputer(strategy='constant', fill_value='missing')),\n",
        "    ('onehot', OneHotEncoder(handle_unknown='ignore'))])\n",
        "\n",
        "preprocessor = ColumnTransformer(\n",
        "    transformers=[\n",
        "        ('num', numeric_transformer, numeric_features),\n",
        "        ('cat', categorical_transformer, categorical_features),\n",
        "        ])\n",
        "\n",
        "clf = Pipeline(steps=[('preprocessor', preprocessor),\n",
        "                      ('classifier', LogisticRegression(solver='lbfgs'))])\n",
        "clf"
      ]
    },
    {
      "cell_type": "code",
      "execution_count": 11,
      "metadata": {},
      "outputs": [],
      "source": [
        "dot = pipeline2dot(clf, columns)"
      ]
    },
    {
      "cell_type": "code",
      "execution_count": 12,
      "metadata": {},
      "outputs": [],
      "source": [
        "dot_file = \"graph2.dot\"\n",
        "with open(dot_file, \"w\", encoding=\"utf-8\") as f:\n",
        "    f.write(dot)"
      ]
    },
    {
      "cell_type": "code",
      "execution_count": 13,
      "metadata": {},
      "outputs": [
        {
          "name": "stdout",
          "output_type": "stream",
          "text": [
            "[run_cmd] execute dot -G=300 -Tpng graph2.dot -ograph2.dot.png\n",
            "end of execution dot -G=300 -Tpng graph2.dot -ograph2.dot.png\n"
          ]
        }
      ],
      "source": [
        "cmd = \"dot -G=300 -Tpng {0} -o{0}.png\".format(dot_file)\n",
        "run_cmd(cmd, wait=True, fLOG=print);"
      ]
    },
    {
      "cell_type": "code",
      "execution_count": 14,
      "metadata": {
        "scrolled": false
      },
      "outputs": [
        {
          "data": {
            "image/png": "[encoded data removed]",
            "text/plain": [
              "<PIL.PngImagePlugin.PngImageFile image mode=RGBA size=632x787 at 0x289F4914278>"
            ]
          },
          "execution_count": 15,
          "metadata": {},
          "output_type": "execute_result"
        }
      ],
      "source": [
        "img = Image.open(\"graph2.dot.png\")\n",
        "img"
      ]
    },
    {
      "cell_type": "markdown",
      "metadata": {},
      "source": [
        "## With javascript"
      ]
    },
    {
      "cell_type": "code",
      "execution_count": 15,
      "metadata": {},
      "outputs": [
        {
          "data": {
            "text/html": [
              "<div id=\"M08d02308a86e4a6283321a11e58413d6-cont\"><div id=\"M08d02308a86e4a6283321a11e58413d6\" style=\"width:100%;height:100%;\"></div></div>\n",
              "<script>\n",
              "\n",
              "require(['http://www.xavierdupre.fr/js/vizjs/viz.js'], function() { var svgGraph = Viz(\"digraph{\\n  ranksep=0.25;\\n  orientation=portrait;\\n  nodesep=0.05;\\n  sch0[label=\\\"<f0> pclass|<f1> name|<f2> sex|<f3> age|<f4> sibsp|<f5> parch|<f6> ticket|<f7> fare|<f8> cabin|<f9> embarked|<f10> boat|<f11> body|<f12> home.dest\\\",shape=record,fontsize=8];\\n\\n  node1[label=\\\"union\\\",shape=box,style=\\\"filled,rounded\\\",color=cyan,fontsize=12];\\n  sch0:f3 -> node1;\\n  sch0:f7 -> node1;\\n  sch1[label=\\\"<f0> -v-0\\\",shape=record,fontsize=8];\\n  node1 -> sch1:f0;\\n\\n  node2[label=\\\"SimpleImputer\\\",shape=box,style=\\\"filled,rounded\\\",color=cyan,fontsize=12];\\n  sch1:f0 -> node2;\\n  sch2[label=\\\"<f0> -v-1\\\",shape=record,fontsize=8];\\n  node2 -> sch2:f0;\\n\\n  node3[label=\\\"StandardScaler\\\",shape=box,style=\\\"filled,rounded\\\",color=cyan,fontsize=12];\\n  sch2:f0 -> node3;\\n  sch3[label=\\\"<f0> -v-11\\\",shape=record,fontsize=8];\\n  node3 -> sch3:f0;\\n\\n  node4[label=\\\"union\\\",shape=box,style=\\\"filled,rounded\\\",color=cyan,fontsize=12];\\n  sch0:f9 -> node4;\\n  sch0:f2 -> node4;\\n  sch0:f0 -> node4;\\n  sch4[label=\\\"<f0> -v-2\\\",shape=record,fontsize=8];\\n  node4 -> sch4:f0;\\n\\n  node5[label=\\\"SimpleImputer\\\",shape=box,style=\\\"filled,rounded\\\",color=cyan,fontsize=12];\\n  sch4:f0 -> node5;\\n  sch5[label=\\\"<f0> -v-3\\\",shape=record,fontsize=8];\\n  node5 -> sch5:f0;\\n\\n  node6[label=\\\"OneHotEncoder\\\",shape=box,style=\\\"filled,rounded\\\",color=cyan,fontsize=12];\\n  sch5:f0 -> node6;\\n  sch6[label=\\\"<f0> -v-33\\\",shape=record,fontsize=8];\\n  node6 -> sch6:f0;\\n\\n  node7[label=\\\"union\\\",shape=box,style=\\\"filled,rounded\\\",color=cyan,fontsize=12];\\n  sch3:f0 -> node7;\\n  sch6:f0 -> node7;\\n  sch7[label=\\\"<f0> -v-4\\\",shape=record,fontsize=8];\\n  node7 -> sch7:f0;\\n\\n  node8[label=\\\"LogisticRegression\\\",shape=box,style=\\\"filled,rounded\\\",color=yellow,fontsize=12];\\n  sch7:f0 -> node8;\\n  sch8[label=\\\"<f0> PredictedLabel|<f1> Probabilities\\\",shape=record,fontsize=8];\\n  node8 -> sch8:f0;\\n  node8 -> sch8:f1;\\n}\");\n",
              "document.getElementById('M08d02308a86e4a6283321a11e58413d6').innerHTML = svgGraph; });\n",
              "\n",
              "</script>"
            ],
            "text/plain": [
              "<jyquickhelper.jspy.render_nb_js_dot.RenderJsDot at 0x289f49146d8>"
            ]
          },
          "execution_count": 16,
          "metadata": {},
          "output_type": "execute_result"
        }
      ],
      "source": [
        "from jyquickhelper import RenderJsDot\n",
        "RenderJsDot(dot)"
      ]
    },
    {
      "cell_type": "markdown",
      "metadata": {},
      "source": [
        "## Example with FeatureUnion"
      ]
    },
    {
      "cell_type": "code",
      "execution_count": 16,
      "metadata": {},
      "outputs": [
        {
          "data": {
            "text/html": [
              "<div id=\"M3ce7543fb4774756af67d9baef5411ab-cont\"><div id=\"M3ce7543fb4774756af67d9baef5411ab\" style=\"width:100%;height:100%;\"></div></div>\n",
              "<script>\n",
              "\n",
              "require(['http://www.xavierdupre.fr/js/vizjs/viz.js'], function() { var svgGraph = Viz(\"digraph{\\n  ranksep=0.25;\\n  orientation=portrait;\\n  nodesep=0.05;\\n  sch0[label=\\\"<f0> pclass|<f1> name|<f2> sex|<f3> age|<f4> sibsp|<f5> parch|<f6> ticket|<f7> fare|<f8> cabin|<f9> embarked|<f10> boat|<f11> body|<f12> home.dest\\\",shape=record,fontsize=8];\\n\\n  node1[label=\\\"union\\\",shape=box,style=\\\"filled,rounded\\\",color=cyan,fontsize=12];\\n  sch0:f0 -> node1;\\n  sch0:f1 -> node1;\\n  sch0:f2 -> node1;\\n  sch0:f3 -> node1;\\n  sch0:f4 -> node1;\\n  sch0:f5 -> node1;\\n  sch0:f6 -> node1;\\n  sch0:f7 -> node1;\\n  sch0:f8 -> node1;\\n  sch0:f9 -> node1;\\n  sch0:f10 -> node1;\\n  sch0:f11 -> node1;\\n  sch0:f12 -> node1;\\n  sch1[label=\\\"<f0> -v-0\\\",shape=record,fontsize=8];\\n  node1 -> sch1:f0;\\n\\n  node2[label=\\\"PolynomialFeatures\\\",shape=box,style=\\\"filled,rounded\\\",color=cyan,fontsize=12];\\n  sch1:f0 -> node2;\\n  sch2[label=\\\"<f0> -v-1\\\",shape=record,fontsize=8];\\n  node2 -> sch2:f0;\\n\\n  node3[label=\\\"MinMaxScaler\\\",shape=box,style=\\\"filled,rounded\\\",color=cyan,fontsize=12];\\n  sch2:f0 -> node3;\\n  sch3[label=\\\"<f0> -v-11\\\",shape=record,fontsize=8];\\n  node3 -> sch3:f0;\\n\\n  node4[label=\\\"StandardScaler\\\",shape=box,style=\\\"filled,rounded\\\",color=cyan,fontsize=12];\\n  sch2:f0 -> node4;\\n  sch4[label=\\\"<f0> -v-12\\\",shape=record,fontsize=8];\\n  node4 -> sch4:f0;\\n\\n  node5[label=\\\"union\\\",shape=box,style=\\\"filled,rounded\\\",color=cyan,fontsize=12];\\n  sch3:f0 -> node5;\\n  sch4:f0 -> node5;\\n  sch5[label=\\\"<f0> -v-2\\\",shape=record,fontsize=8];\\n  node5 -> sch5:f0;\\n}\");\n",
              "document.getElementById('M3ce7543fb4774756af67d9baef5411ab').innerHTML = svgGraph; });\n",
              "\n",
              "</script>"
            ],
            "text/plain": [
              "<jyquickhelper.jspy.render_nb_js_dot.RenderJsDot at 0x289f4b189b0>"
            ]
          },
          "execution_count": 17,
          "metadata": {},
          "output_type": "execute_result"
        }
      ],
      "source": [
        "from sklearn.pipeline import FeatureUnion\n",
        "from sklearn.preprocessing import MinMaxScaler, PolynomialFeatures\n",
        "\n",
        "model = Pipeline([('poly', PolynomialFeatures()),\n",
        "                          ('union', FeatureUnion([\n",
        "                                        ('scaler2', MinMaxScaler()),\n",
        "                                        ('scaler3', StandardScaler())]))])\n",
        "dot = pipeline2dot(model, columns)\n",
        "RenderJsDot(dot)"
      ]
    },
    {
      "cell_type": "markdown",
      "metadata": {},
      "source": [
        "**END.**"
      ]
    },
    {
      "cell_type": "code",
      "execution_count": 17,
      "metadata": {},
      "outputs": [],
      "source": []
    }
  ],
  "metadata": {
    "kernelspec": {
      "display_name": "Python 3",
      "language": "python",
      "name": "python3"
    },
    "language_info": {
      "codemirror_mode": {
        "name": "ipython",
        "version": 3
      },
      "file_extension": ".py",
      "mimetype": "text/x-python",
      "name": "python",
      "nbconvert_exporter": "python",
      "pygments_lexer": "ipython3",
      "version": "3.7.2"
    }
  },
  "nbformat": 4,
  "nbformat_minor": 2
}